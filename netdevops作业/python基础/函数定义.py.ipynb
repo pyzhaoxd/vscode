{
 "cells": [
  {
   "cell_type": "code",
   "execution_count": 12,
   "metadata": {},
   "outputs": [
    {
     "name": "stdout",
     "output_type": "stream",
     "text": [
      "3\n",
      "None\n",
      "10\n",
      "None\n",
      "test failue\n",
      "12\n"
     ]
    }
   ],
   "source": [
    "#函数创建和调用\n",
    "\n",
    "#函数无参数\n",
    "def add():\n",
    "    result = 1 + 2\n",
    "    print(result)\n",
    "    \n",
    "p = add()\n",
    "print(p)\n",
    "\n",
    "#函数有参数\n",
    "def add1(x,y):\n",
    "    result = x + y\n",
    "    print(result)\n",
    "    \n",
    "p1 = add1(3,7)\n",
    "print(p1)\n",
    "\n",
    "#为什么会有None 因为在执行函数的时候add() 就打印了一次result，return不会被打印到终端上，如果打印需要print\n",
    "\n",
    "#函数返回值\n",
    "\n",
    "def add2(x,y):\n",
    "    result = x + y\n",
    "    if result  == 8:\n",
    "        print(\"test ok\")\n",
    "    else:\n",
    "        print(\"test failue\")\n",
    "    return result\n",
    "\n",
    "p2 = add2(3,9)\n",
    "print(p2)"
   ]
  },
  {
   "cell_type": "code",
   "execution_count": 16,
   "metadata": {},
   "outputs": [
    {
     "name": "stdout",
     "output_type": "stream",
     "text": [
      "8\n"
     ]
    }
   ],
   "source": [
    "#函数嵌套\n",
    "def square(x):\n",
    "    result = x + 2\n",
    "    return result\n",
    "\n",
    "\n",
    "def cube(x):\n",
    "    result = square(x) * x\n",
    "    return result\n",
    "\n",
    "\n",
    "p = cube(2)\n",
    "print(p)\n",
    "\n",
    "#执行到result = square(x) 「执行dquare(x)函数返回4」* 2 最终返回8"
   ]
  },
  {
   "cell_type": "code",
   "execution_count": 17,
   "metadata": {},
   "outputs": [],
   "source": [
    "#不带自定义函数的模块\n",
    "#脚本引入\n",
    "argv[0] script1.py\n",
    "#coding=utf-8\n",
    "print(\"这是脚本1\")\n",
    "\n",
    "\n",
    "argv[0] sscript2.py\n",
    "#coding=utf-8\n",
    "impot script1\n",
    "print(\"这是脚本2\")\n",
    "\n",
    "\n",
    "#运行脚本2打印结果为，先运行脚本1的内容，然后在运行脚本2的内容\n"
   ]
  },
  {
   "cell_type": "code",
   "execution_count": 19,
   "metadata": {},
   "outputs": [],
   "source": [
    "# 带自定义函数的模块\n",
    "\n",
    "argv[0] script1.py\n",
    "#coding=utf-8\n",
    "def test():\n",
    "    print(\"这是带函数的脚本1\")\n",
    "\n",
    "\n",
    "argv[0] sscript2.py\n",
    "#coding=utf-8\n",
    "impot script1\n",
    "print(\"这是脚本2\")\n",
    "script1.test()"
   ]
  },
  {
   "cell_type": "code",
   "execution_count": 20,
   "metadata": {},
   "outputs": [],
   "source": [
    "# Python内建模块\n",
    "import os \n",
    "hostname = 'www.baidu.com'\n",
    "respone = os.system(\"ping -c 1\" + hostname)\n",
    "if respone == 0:\n",
    "    print(hosntame, + \"is reachable\")\n",
    "else:\n",
    "    print(hostname,+ 'is not reachable')\n",
    "    \n",
    "    \n",
    "#以上ping脚本会有回显，可以实现ping的功能还有python内建模块，subprocess ，如果让python安静的ping 可以使用第三方模块pythonping tcpping fpping\n"
   ]
  },
  {
   "cell_type": "code",
   "execution_count": 21,
   "metadata": {},
   "outputs": [],
   "source": [
    "# from .... import ...\n",
    "# 带自定义函数的模块\n",
    "\n",
    "argv[0] script1.py\n",
    "#coding=utf-8\n",
    "def test():\n",
    "    print(\"这是带函数的脚本1\")\n",
    "\n",
    "\n",
    "argv[0] sscript2.py\n",
    "#coding=utf-8\n",
    "from import script1 test\n",
    "print(\"这是脚本2\")\n",
    "test()"
   ]
  },
  {
   "cell_type": "code",
   "execution_count": null,
   "metadata": {},
   "outputs": [],
   "source": [
    "#if__name__ == '__main__':\n",
    "\n",
    "#脚本2引入了模块1后，立即就引用了脚本1代码，有的时候我们知识希望所导入的部分函数，并不希望一次性全部引入代码内容\n",
    "\n",
    "argv[0] script1.py\n",
    "#coding=utf-8\n",
    "#if__name__ == '__main__':\n",
    "print(\"这是脚本1\")\n",
    "\n",
    "\n",
    "argv[0] sscript2.py\n",
    "#coding=utf-8\n",
    "impot script1\n",
    "print(\"这是脚本2\")\n"
   ]
  }
 ],
 "metadata": {
  "kernelspec": {
   "display_name": "Python 3",
   "language": "python",
   "name": "python3"
  },
  "language_info": {
   "codemirror_mode": {
    "name": "ipython",
    "version": 3
   },
   "file_extension": ".py",
   "mimetype": "text/x-python",
   "name": "python",
   "nbconvert_exporter": "python",
   "pygments_lexer": "ipython3",
   "version": "3.8.3"
  }
 },
 "nbformat": 4,
 "nbformat_minor": 4
}
