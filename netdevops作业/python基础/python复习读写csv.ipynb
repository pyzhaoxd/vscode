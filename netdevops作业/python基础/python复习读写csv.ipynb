{
 "cells": [
  {
   "cell_type": "code",
   "execution_count": 1,
   "metadata": {},
   "outputs": [
    {
     "ename": "IndentationError",
     "evalue": "unexpected indent (<ipython-input-1-4a28730b9643>, line 3)",
     "output_type": "error",
     "traceback": [
      "\u001b[1;36m  File \u001b[1;32m\"<ipython-input-1-4a28730b9643>\"\u001b[1;36m, line \u001b[1;32m3\u001b[0m\n\u001b[1;33m    with open('05-devs.csv', mode='r', encoding='utf8') as f:\u001b[0m\n\u001b[1;37m    ^\u001b[0m\n\u001b[1;31mIndentationError\u001b[0m\u001b[1;31m:\u001b[0m unexpected indent\n"
     ]
    }
   ],
   "source": [
    "import csv\n",
    "# 返回的是一个字典\n",
    "    with open('05-devs.csv', mode='r', encoding='utf8') as f:\n",
    "        items = csv.DictReader(f)\n",
    "        # 可以通过delimiter指定分隔符，常见的是逗号和制表符，默认是逗号\n",
    "        # f_csv = csv.DictReader(f, delimiter='\\t')\n",
    "        for item in items:\n",
    "            print(item)\n",
    "\n",
    "    # 也可以使用reader，返回的rows ，每一个row是一行数据，一行数据格式是一个list，\n",
    "    \n",
    "  #返回的是一个列表  \n",
    "    with open('05-devs.csv', encoding='utf8') as f:\n",
    "        f_csv = csv.reader(f)\n",
    "        # 读取第一行作为header，同时将文件指针指向下一行\n",
    "        headers = next(f_csv)\n",
    "        print('headers：', headers)\n",
    "        for row in f_csv:\n",
    "            print(row)\n"
   ]
  },
  {
   "cell_type": "code",
   "execution_count": 2,
   "metadata": {},
   "outputs": [
    {
     "ename": "SyntaxError",
     "evalue": "invalid syntax (<ipython-input-2-752d742210f5>, line 1)",
     "output_type": "error",
     "traceback": [
      "\u001b[1;36m  File \u001b[1;32m\"<ipython-input-2-752d742210f5>\"\u001b[1;36m, line \u001b[1;32m1\u001b[0m\n\u001b[1;33m    mport csv\u001b[0m\n\u001b[1;37m          ^\u001b[0m\n\u001b[1;31mSyntaxError\u001b[0m\u001b[1;31m:\u001b[0m invalid syntax\n"
     ]
    }
   ],
   "source": [
    "import csv\n",
    "\n",
    "if __name__ == '__main__':\n",
    "    '''\n",
    "    对于初学者，我们也推荐DictWriter写数据，可以通过dict的list写入数据\n",
    "    在写入数据之前先用open打开一个可以写的文件，重点是在new_line='',不然打开的时候会多一个空行。\n",
    "    然后调用wirter构建一个csv的写入对象，DictWriter构建时一定要传入filednames,表头。\n",
    "    默认的writer的无需写header\n",
    "    \n",
    "    '''\n",
    "    ## 读取到字典去中\n",
    "    rows = [{\n",
    "        'ip': '192.168.1.1',\n",
    "        'role': 'as',\n",
    "        'area': 'a',\n",
    "    },\n",
    "        {\n",
    "            'ip': '192.168.1.2',\n",
    "            'area': 'a',\n",
    "            'role': 'as'\n",
    "        },\n",
    "\n",
    "        {\n",
    "            'ip': '192.168.1.3',\n",
    "            'area': 'a',\n",
    "            'role': 'as'\n",
    "        },\n",
    "    ]\n",
    "    with open('devs4write1.csv', mode='w', encoding='utf8', newline='') as f:\n",
    "        headers = ['ip', 'area', 'role']\n",
    "\n",
    "        # 构建写入csv的对象\n",
    "        csv_writer = csv.DictWriter(f, headers)\n",
    "        # 写写表头，再写数据，如果不写表头，则最后的数据没有表头。\n",
    "        csv_writer.writeheader()\n",
    "        csv_writer.writerows(rows)\n",
    "\n",
    "    # 一般比较通用的办法是，是写数组，每组是一行数据。\n",
    "    with open('devs4write2.csv', 'w', encoding='utf8', newline='') as f:\n",
    "        headers = ['ip', 'area', 'role']\n",
    "        rows = [['192.168.1.1', 'A', 'AS'],\n",
    "                ['192.168.1.2', 'A', 'AS'],\n",
    "                ['192.168.1.3', 'A', 'AS'],\n",
    "                ['192.168.1.4', 'A', 'AS']]\n",
    "        csv_writer = csv.writer(f)\n",
    "        # writerow写入一行数据\n",
    "        csv_writer.writerow(headers)\n",
    "        # writerows 写入多行数据，传入列表的列表。\n",
    "        csv_writer.writerows(rows)"
   ]
  },
  {
   "cell_type": "code",
   "execution_count": null,
   "metadata": {},
   "outputs": [],
   "source": [
    "import pandas as pd\n",
    "\n",
    "if __name__ == '__main__':\n",
    "    '''\n",
    "    pandas是一个科学计算的包，但是我们可以借助于它对表格数据的读写\n",
    "    在使用前使用pip install pandas xlwt xlrd\n",
    "    read_excel读取表格pd.read_excel('example.xlsx', sheet_name='Sheet1')\n",
    "    read_csv读取csv pd.read_excel('example.csv')\n",
    "    读取的是pd的专属的dataframe格式，转为字典list需要调用to_dict(orient='records')\n",
    "    '''\n",
    "    dataframe = pd.read_csv('05-devs.csv')\n",
    "    items = dataframe.to_dict(orient='records')\n",
    "    print(items)\n"
   ]
  }
 ],
 "metadata": {
  "kernelspec": {
   "display_name": "Python 3",
   "language": "python",
   "name": "python3"
  },
  "language_info": {
   "codemirror_mode": {
    "name": "ipython",
    "version": 3
   },
   "file_extension": ".py",
   "mimetype": "text/x-python",
   "name": "python",
   "nbconvert_exporter": "python",
   "pygments_lexer": "ipython3",
   "version": "3.8.3"
  }
 },
 "nbformat": 4,
 "nbformat_minor": 4
}
