{
 "cells": [
  {
   "cell_type": "code",
   "execution_count": 1,
   "metadata": {},
   "outputs": [
    {
     "name": "stdout",
     "output_type": "stream",
     "text": [
      "1 2 3\n"
     ]
    }
   ],
   "source": [
    "#序列解包\n",
    "x,y,z = 1,2,3\n",
    "print(x,y,z)"
   ]
  },
  {
   "cell_type": "code",
   "execution_count": 2,
   "metadata": {},
   "outputs": [
    {
     "name": "stdout",
     "output_type": "stream",
     "text": [
      "2 1\n"
     ]
    }
   ],
   "source": [
    "#变量值交换\n",
    "x = 1 \n",
    "y = 2\n",
    "x,y = y,x\n",
    "print(x,y)\n"
   ]
  },
  {
   "cell_type": "code",
   "execution_count": 7,
   "metadata": {},
   "outputs": [
    {
     "output_type": "error",
     "ename": "Error",
     "evalue": "request to https://hostname:8080/api/sessions?1624625488798 failed, reason: getaddrinfo ENOTFOUND hostname",
     "traceback": [
      "Error:",
      "at new o (c:\\Users\\64530\\.vscode\\extensions\\ms-toolsai.jupyter-2021.6.999662501\\out\\client\\extension.js:16:21636)",
      "at new _ (c:\\Users\\64530\\.vscode\\extensions\\ms-toolsai.jupyter-2021.6.999662501\\out\\client\\extension.js:24:123225)",
      "at c:\\Users\\64530\\.vscode\\extensions\\ms-toolsai.jupyter-2021.6.999662501\\out\\client\\extension.js:90:234771",
      "at processTicksAndRejections (internal/process/task_queues.js:93:5)",
      "FetchError: request to https://hostname:8080/api/sessions?1624625488798 failed, reason: getaddrinfo ENOTFOUND hostname",
      "at ClientRequest.<anonymous> (c:\\Users\\64530\\.vscode\\extensions\\ms-toolsai.jupyter-2021.6.999662501\\out\\client\\extension.js:16:275607)",
      "at ClientRequest.emit (events.js:327:22)",
      "at TLSSocket.socketErrorListener (_http_client.js:469:9)",
      "at TLSSocket.emit (events.js:315:20)",
      "at emitErrorNT (internal/streams/destroy.js:106:8)",
      "at emitErrorCloseNT (internal/streams/destroy.js:74:3)",
      "at processTicksAndRejections (internal/process/task_queues.js:80:21)"
     ]
    }
   ],
   "source": [
    "#注意解包的序列包含的元素必须与你在等号左边列出的目标相同\n",
    "values = 1,2,3\n",
    "print(values)\n",
    "x,y,z = values\n",
    "print(x)\n",
    "print(y)\n",
    "print(z)"
   ]
  },
  {
   "cell_type": "code",
   "execution_count": 10,
   "metadata": {},
   "outputs": [
    {
     "name": "stdout",
     "output_type": "stream",
     "text": [
      "age 18\n",
      "{'name': 'zhaoxd'}\n"
     ]
    }
   ],
   "source": [
    "#假设从字典中使用popitem方法随便获取（删除）一个健值对的时候，可以通过元组解包到两个变量中\n",
    "a = {'name':'zhaoxd','age':18}\n",
    "key,value = a.popitem()\n",
    "print(key,value)\n",
    "print(a)\n"
   ]
  },
  {
   "cell_type": "code",
   "execution_count": 11,
   "metadata": {},
   "outputs": [
    {
     "name": "stdout",
     "output_type": "stream",
     "text": [
      "[3, 4, 5, 6]\n"
     ]
    }
   ],
   "source": [
    "#可以使用*号来收集多余的值，这样无需确保值和变量个数相同\n",
    "#注意带*号的变量最终包含的总是一个列表\n",
    "a,b,*rest = 1,2,3,4,5,6\n",
    "print(rest)"
   ]
  },
  {
   "cell_type": "code",
   "execution_count": 16,
   "metadata": {},
   "outputs": [
    {
     "name": "stdout",
     "output_type": "stream",
     "text": [
      "3\n",
      "3\n",
      "True\n"
     ]
    }
   ],
   "source": [
    "#链式赋值\n",
    "z = 3\n",
    "x = y = z\n",
    "print(x)\n",
    "print(y)\n",
    "print(x is y)"
   ]
  },
  {
   "cell_type": "code",
   "execution_count": 23,
   "metadata": {},
   "outputs": [
    {
     "name": "stdout",
     "output_type": "stream",
     "text": [
      "2\n",
      "3\n",
      "zhaoxdzhaoxd\n"
     ]
    }
   ],
   "source": [
    "#增强赋值\n",
    "x = 2\n",
    "# x = x +1\n",
    "print(x)\n",
    "x += 1\n",
    "print(x)\n",
    "\n",
    "name = 'zhaoxd'\n",
    "name *= 2\n",
    "print(name)\n"
   ]
  },
  {
   "cell_type": "code",
   "execution_count": null,
   "metadata": {},
   "outputs": [],
   "source": []
  },
  {
   "cell_type": "code",
   "execution_count": null,
   "metadata": {},
   "outputs": [],
   "source": []
  }
 ],
 "metadata": {
  "kernelspec": {
   "display_name": "Python 3",
   "language": "python",
   "name": "python3"
  },
  "language_info": {
   "codemirror_mode": {
    "name": "ipython",
    "version": 3
   },
   "file_extension": ".py",
   "mimetype": "text/x-python",
   "name": "python",
   "nbconvert_exporter": "python",
   "pygments_lexer": "ipython3",
   "version": "3.8.3"
  }
 },
 "nbformat": 4,
 "nbformat_minor": 4
}