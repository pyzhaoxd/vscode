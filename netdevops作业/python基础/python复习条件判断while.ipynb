{
 "cells": [
  {
   "cell_type": "code",
   "execution_count": 1,
   "metadata": {},
   "outputs": [],
   "source": [
    "#for语句和循环机制和wihile语句完全不同，while语句需要配合判断语句来决定什么时候开始循环和中止循环，而for语句用来遍历一组可迭代的序列，可迭代的\n",
    "#序列包括，字符串，列表，元组等，将这些序列中的元素遍历完后，for语句循环也将终止，\n",
    "\n",
    "# 只要条件满足就不断循环，条件不满足时就推出循环，同时也可以使用break 跳出本层循环，break 2 标识跳出两层循环，continue 代表在同一个逻辑中，\n",
    "#continue以下的不在执行，进入下一次循环"
   ]
  },
  {
   "cell_type": "code",
   "execution_count": 10,
   "metadata": {},
   "outputs": [
    {
     "name": "stdout",
     "output_type": "stream",
     "text": [
      "2500\n"
     ]
    }
   ],
   "source": [
    "#计算100以内所有奇数的和\n",
    "sum = 0\n",
    "n = 99\n",
    "while n > 0:\n",
    "    sum = sum + n\n",
    "    n = n - 2\n",
    "print(sum)"
   ]
  },
  {
   "cell_type": "code",
   "execution_count": 13,
   "metadata": {},
   "outputs": [
    {
     "name": "stdout",
     "output_type": "stream",
     "text": [
      "1\n",
      "2\n",
      "3\n",
      "4\n",
      "5\n",
      "6\n",
      "7\n",
      "8\n",
      "9\n"
     ]
    }
   ],
   "source": [
    "#当while a < b: 为True将一直循环，当条件为False将结束循环，所以一般while语句中要定义在什么情况结束循环，本例子中 a += 1 就是\n",
    "a = 1\n",
    "b = 10 \n",
    "while a < b:\n",
    "    print(a)\n",
    "    a = a + 1"
   ]
  },
  {
   "cell_type": "code",
   "execution_count": 2,
   "metadata": {},
   "outputs": [
    {
     "name": "stdout",
     "output_type": "stream",
     "text": [
      "['Cisco', 'Huawei', 'Juniper', 'H3C', 'HP']\n",
      "['Cisco', 'Huawei', 'Juniper', 'H3C']\n",
      "['Cisco', 'Huawei', 'Juniper']\n",
      "['Cisco', 'Huawei']\n",
      "['Cisco']\n",
      "[]\n"
     ]
    }
   ],
   "source": [
    "vendors  = ['Cisco','Huawei','Juniper','H3C','HP','DELL',]\n",
    "while len(vendors) > 0:\n",
    "    vendors.pop()\n",
    "    print(vendors)"
   ]
  },
  {
   "cell_type": "code",
   "execution_count": null,
   "metadata": {},
   "outputs": [
    {
     "name": "stdout",
     "output_type": "stream",
     "text": [
      "请根据对应的号码选择一个路由协议：\n",
      "1.RIP\n",
      "2.IGRP\n",
      "3.EIGRP\n",
      "4.OSPF\n",
      "5.ISIS\n",
      "6.BGP\n"
     ]
    }
   ],
   "source": [
    "#优化if-else代码，如果用户输入不符合脚本内容，程序将终止，需要重新运行程序在进行选择，比较麻烦\n",
    "\n",
    "print('''请根据对应的号码选择一个路由协议：\n",
    "1.RIP\n",
    "2.IGRP\n",
    "3.EIGRP\n",
    "4.OSPF\n",
    "5.ISIS\n",
    "6.BGP''')\n",
    "\n",
    "option = input('请输入你的选项（数组1-6):')\n",
    "if option .isdigit() and int(option) in list(range(1,7)):\n",
    "    if int(option) in list (range(1,4)):\n",
    "        print('该路由协议属于距离尺量路由协议。')\n",
    "    elif nt(option) in list (range(4,6)):\n",
    "        print('该路由协议属于链路状态路由协议。')\n",
    "    else:\n",
    "        print('该路由协议属于路径尺量路由协议。')\n",
    "else:\n",
    "    print('选项无效，程序运行终止')"
   ]
  },
  {
   "cell_type": "code",
   "execution_count": 1,
   "metadata": {},
   "outputs": [
    {
     "name": "stdout",
     "output_type": "stream",
     "text": [
      "Sun Jun 13 17:12:07 2021\n"
     ]
    }
   ],
   "source": [
    "#使用while优化以上的脚本，直到用户输入正确的号码 \n"
   ]
  },
  {
   "cell_type": "code",
   "execution_count": null,
   "metadata": {},
   "outputs": [
    {
     "name": "stdout",
     "output_type": "stream",
     "text": [
      "请根据对应的号码选择一个路由协议：\n",
      "1.RIP\n",
      "2.IGRP\n",
      "3.EIGRP\n",
      "4.OSPF\n",
      "5.ISIS\n",
      "6.BGP\n"
     ]
    }
   ],
   "source": [
    "print('''请根据对应的号码选择一个路由协议：\n",
    "1.RIP\n",
    "2.IGRP\n",
    "3.EIGRP\n",
    "4.OSPF\n",
    "5.ISIS\n",
    "6.BGP''')\n",
    "while True:\n",
    "    option = input('请输入你的选项（数组1-6):')\n",
    "    if option .isdigit() and int(option) in list(range(1,7)):\n",
    "        if int(option) in list (range(1,4)):\n",
    "            print('该路由协议属于距离尺量路由协议。')\n",
    "        elif nt(option) in list (range(4,6)):\n",
    "            print('该路由协议属于链路状态路由协议。')\n",
    "        else:\n",
    "            print('该路由协议属于路径尺量路由协议。')\n",
    "        break\n",
    "        \n",
    "    else:\n",
    "        print('选项无效，程序运行终止')"
   ]
  },
  {
   "cell_type": "code",
   "execution_count": null,
   "metadata": {},
   "outputs": [],
   "source": [
    "#\n",
    "while True:\n",
    "    word = input('please enter a word:')\n",
    "    if not word:\n",
    "        break\n",
    "    print('the word was',word)"
   ]
  },
  {
   "cell_type": "code",
   "execution_count": 15,
   "metadata": {},
   "outputs": [
    {
     "name": "stdout",
     "output_type": "stream",
     "text": [
      "print 1\n",
      "print 2\n",
      "print 3\n",
      "print 4\n",
      "print 5\n",
      "print 6\n",
      "print 7\n",
      "print 8\n",
      "print 9\n",
      "print 10\n"
     ]
    }
   ],
   "source": [
    "# \n",
    "broke_out = True\n",
    "a = 0\n",
    "while broke_out:\n",
    "    a = a + 1\n",
    "    if a >= 10:\n",
    "        broke_out = False\n",
    "    print('print',a)\n",
    "\n",
    "    "
   ]
  },
  {
   "cell_type": "code",
   "execution_count": null,
   "metadata": {},
   "outputs": [],
   "source": []
  },
  {
   "cell_type": "code",
   "execution_count": null,
   "metadata": {},
   "outputs": [],
   "source": []
  }
 ],
 "metadata": {
  "kernelspec": {
   "display_name": "Python 3",
   "language": "python",
   "name": "python3"
  },
  "language_info": {
   "codemirror_mode": {
    "name": "ipython",
    "version": 3
   },
   "file_extension": ".py",
   "mimetype": "text/x-python",
   "name": "python",
   "nbconvert_exporter": "python",
   "pygments_lexer": "ipython3",
   "version": "3.8.3"
  }
 },
 "nbformat": 4,
 "nbformat_minor": 4
}
