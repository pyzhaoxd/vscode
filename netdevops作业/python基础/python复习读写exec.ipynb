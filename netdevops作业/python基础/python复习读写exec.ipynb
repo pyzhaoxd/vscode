{
 "cells": [
  {
   "cell_type": "code",
   "execution_count": 1,
   "metadata": {},
   "outputs": [],
   "source": [
    "import pandas as pd\n",
    "\n",
    "if __name__ == '__main__':\n",
    "    '''\n",
    "    pandas是一个科学计算的包，但是我们可以借助于它对表格数据的读写\n",
    "    在使用前使用pip install pandas xlwt xlrd\n",
    "    read_excel读取表格pd.read_excel('example.xlsx', sheet_name='Sheet1')\n",
    "    read_csv读取csv pd.read_excel('example.csv')\n",
    "    读取的是pd的专属的dataframe格式，转为字典list需要调用to_dict(orient='records')\n",
    "    '''\n",
    "    dataframe = pd.read_excel('pandas_output.xlsx',sheet_name='Test01')\n",
    "    items = dataframe.to_dict(orient='records')\n",
    "    print(items)"
   ]
  },
  {
   "cell_type": "code",
   "execution_count": 2,
   "metadata": {},
   "outputs": [],
   "source": [
    "import pandas as pd\n",
    "\n",
    "if __name__ == '__main__':\n",
    "\n",
    "\n",
    "    '''\n",
    "    写入文件基本也一样\n",
    "    先用字典list构建dataframe\n",
    "    然后逆向，dataframe写入文件 用to_excel\n",
    "    '''\n",
    "    raw_data = [{'name': 'John', 'age': 30, 'gender': 'male'}, {'name': 'Mary', 'age': 22, 'gender': 'female'},\n",
    "                {'name': 'Smith', 'age': 32, 'gender': 'male'}]\n",
    "    df = pd.DataFrame(raw_data)\n",
    "    # sheetname大家按需填写，index是否显示索引 第几条数据（依然是从0开始数）\n",
    "    df.to_excel('pandas_output.xlsx', sheet_name='Test01', index=False)\n",
    "    df.to_csv('pandas_output.csv', index=False)\n"
   ]
  },
  {
   "cell_type": "code",
   "execution_count": null,
   "metadata": {},
   "outputs": [],
   "source": [
    "import pandas as pd\n",
    "\n",
    "'''\n",
    "提供一种思路，pandas 可以逐行梳理数据\n",
    "1、构建一个pandas的二维数据结构，DataFrame（用字典或者从文件读取均可）\n",
    "2、写一个函数func dataframe调用apply函数，apply函数有两个参数\n",
    "   第一个是每行要应用（apply）的函数，我们赋值为我们定义的func\n",
    "   另外一个是axis=1代表我们按行去处理\n",
    "3、把每行函数处理返回的新赋值给dataframe对象的一个新的key\n",
    "4、用dataframe写入数据到表格文件。\n",
    "\n",
    "'''\n",
    "def gen_desc(row):\n",
    "    # print(row) # 可以打印一下看看row 它是每一行的一个字典，如{'name': 'eth1/1', 'to_server': 'XX_DB'} 非常易用\n",
    "    desc_config_templ = '''\n",
    "    interface {interface}\n",
    "    description connected to {to_server}\n",
    "    '''\n",
    "    desc_config = desc_config_templ.format(interface=row['name'], to_server=row['to_server'])\n",
    "    return desc_config\n",
    "\n",
    "\n",
    "if __name__ == '__main__':\n",
    "    raw_data = [\n",
    "        {'name': 'eth1/1', 'to_server': 'XX_DB'},\n",
    "        {'name': 'eth1/2', 'to_server': 'XX_app'},\n",
    "\n",
    "    ]\n",
    "    df = pd.DataFrame(raw_data)\n",
    "    print('#########################',df)\n",
    "    df['desc_config'] = df.apply(gen_desc, axis=1)\n",
    "    df.to_excel('desc_config.xlsx',sheet_name='interface_config',index=False)\n"
   ]
  }
 ],
 "metadata": {
  "kernelspec": {
   "display_name": "Python 3",
   "language": "python",
   "name": "python3"
  },
  "language_info": {
   "codemirror_mode": {
    "name": "ipython",
    "version": 3
   },
   "file_extension": ".py",
   "mimetype": "text/x-python",
   "name": "python",
   "nbconvert_exporter": "python",
   "pygments_lexer": "ipython3",
   "version": "3.8.3"
  }
 },
 "nbformat": 4,
 "nbformat_minor": 4
}
