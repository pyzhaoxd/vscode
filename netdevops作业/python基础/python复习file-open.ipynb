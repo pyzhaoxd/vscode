{
 "cells": [
  {
   "cell_type": "code",
   "execution_count": 1,
   "metadata": {},
   "outputs": [],
   "source": [
    "#读文件\n",
    "#  '''\n",
    "#     open 内置函数，打开一个文件，mode 默认是r，encoding 默认为空，会根据系统本身的编码方式进行编解码。我们的windows多是GBK\n",
    "#     强烈建议，大家在保存、打开文本文件的时候都统一使用utf8\n",
    "#     encoding 的utf8 大小写均可，也可以写成utf-8\n",
    "#     强烈建议，大家使用with+open打开文件，可以管理上下文，在程序离开的时候优雅的关闭文件，防止一些意外。\n",
    "#     '''\n",
    "\n",
    "# mode模式\n",
    "# r 以只读方式打开文件，r模式只能打开已经存在的文件，如果文件不存在则会报错\n",
    "# w 以写的方式打开文件，如果文件原有内容则进行覆盖，如果文件不存在则创建文件并写入内容\n",
    "# a 以追加的方式打开文件，如果文件已经存在，则原有的内容不会被删除覆盖，新内容添加在原内容后面，如果文件不存在，则创建新文件\n",
    "# r+ 以读写的方式打开文件，只能打开已经存在的文件，如果文件不存在就报错\n",
    "# w+ 以读写方式打开文件，如果文件已存在，则原有内容将被删除覆盖，如果文件不存在，则创建新文件\n",
    "# a+ 以读写的方式打开文件，如果文件已经存在，则原有内容不会被覆盖，新内容追加到原有内容后面，如果文件不存在，则创建新文件\n",
    "#     f = open('test.txt', mode='r', encoding='utf8')\n",
    "#     text = f.read()\n",
    "#     # 读取完内容后，建议关闭文件。\n",
    "#     print(text)\n",
    "#     f.close()\n"
   ]
  },
  {
   "cell_type": "code",
   "execution_count": 2,
   "metadata": {},
   "outputs": [],
   "source": [
    "    # with open 上下文管理\n",
    "#     with open('test.txt', mode='r', encoding='utf8') as f:\n",
    "#     with open('/etc/test.txt', mode='r', encoding='utf8') as f:\n",
    "#         text = f.read()\n",
    "#         print(text)\n",
    "    # 退出with的管辖范围之后，文件被关闭，无法再次read访问打开。"
   ]
  },
  {
   "cell_type": "code",
   "execution_count": 3,
   "metadata": {},
   "outputs": [],
   "source": [
    "#read() readline() readlines() seek(0)  tell()\n",
    "\n",
    "#read()方法读取文本文件里的全部内容，返回值为字符串，如果文件内容太大，不建议使用，会导致内容爆了 read(size)\n",
    "#readline() 可以每次读取一行内容 返回字符串，推荐使用 \n",
    "#readlines() 一次性读取所有内容并按行返回list，网络工程师处理数据推荐，因为返回的是列表，所以可以使用列表的很多方法控制\n",
    "#seek(0) 将文件指针从末尾移回开头\n",
    "#tell()方法确定指针的当前位置"
   ]
  },
  {
   "cell_type": "code",
   "execution_count": 4,
   "metadata": {},
   "outputs": [],
   "source": [
    "# with open(filename,'r') as file:\n",
    "#     for line in file:\n",
    "#         print(line)\n",
    "        \n",
    "# #以上脚本会逐行去读取文本内容\n",
    "\n",
    "# with open(filename,'r') as f:\n",
    "#     while True:\n",
    "#         line = f.readline()\n",
    "#         if not line:\n",
    "#             break"
   ]
  },
  {
   "cell_type": "code",
   "execution_count": 5,
   "metadata": {},
   "outputs": [],
   "source": [
    "#获取文件中有多少行\n",
    "# with open(filename,'r') as file:\n",
    "#     text = len(file.readline())\n",
    "#     print text\n",
    "    "
   ]
  },
  {
   "cell_type": "code",
   "execution_count": 6,
   "metadata": {},
   "outputs": [],
   "source": [
    "#或者指定文件中特定的内容\n",
    "# with open (filename,'r') as f:\n",
    "#     for ip in f.readlines():\n",
    "#         if ip.startswith('172.16')\n",
    "#             print(ip.strip()) "
   ]
  },
  {
   "cell_type": "code",
   "execution_count": 7,
   "metadata": {},
   "outputs": [],
   "source": [
    "#使用paramiko登陆设备\n",
    "# import paramiko\n",
    "\n",
    "# #交互式输入\n",
    "# username = input('Username:')\n",
    "# password = input('Password:')\n",
    "\n",
    "# #固定用户密码\n",
    "# username = cisco\n",
    "# password = cisco \n",
    "\n",
    "# with open('iplist.txt','r') as f\n",
    "#     for ip in f.readlines():\n",
    "#         ssh_client = Paramiko.SSHClient()\n",
    "#         ssh_client.set_missing_host_key_policy(Paramiko.AutoAddPolicy())\n",
    "#         ssh_client.connect(hostname = ip,username=username,password=password)\n",
    "#         print('Successfully connect to ',ip)\n",
    "        "
   ]
  },
  {
   "cell_type": "code",
   "execution_count": null,
   "metadata": {},
   "outputs": [],
   "source": [
    "#     with open('test.txt', mode='r', encoding='utf8') as file:\n",
    "#         for line in file:\n",
    "#             print(line)\n",
    "#     '''\n",
    "#     # 还有以下方法供参考，逐行读文件，不会一次加载\n",
    "#     # '''\n",
    "#     with open('test.txt', 'r', encoding='utf8') as file:\n",
    "#         while True:\n",
    "#             # readline会读一行然后将，file指针指向下一行。\n",
    "#             line = file.readline()\n",
    "#             print('while+readline:', line)\n",
    "#             if not line:\n",
    "#                 break"
   ]
  },
  {
   "cell_type": "code",
   "execution_count": 8,
   "metadata": {},
   "outputs": [],
   "source": [
    "#写文件\n",
    "\n",
    "with open('jsj.txt',mode='w', encoding='utf8') as f:\n",
    "    #f.write('Hello Word!')\n",
    "    f.writelines('''zhaoxd \n",
    "    kevin\n",
    "    jimmy''')\n",
    "    \n",
    "#写入list\n",
    "list1 = ['zhaoxd','kevin','jimmy',23,34]\n",
    "with open('jsj1.txt',mode='w',encoding='utf8') as f:\n",
    "    f.writelines(list1)"
   ]
  }
 ],
 "metadata": {
  "kernelspec": {
   "display_name": "Python 3",
   "language": "python",
   "name": "python3"
  },
  "language_info": {
   "codemirror_mode": {
    "name": "ipython",
    "version": 3
   },
   "file_extension": ".py",
   "mimetype": "text/x-python",
   "name": "python",
   "nbconvert_exporter": "python",
   "pygments_lexer": "ipython3",
   "version": "3.8.3"
  }
 },
 "nbformat": 4,
 "nbformat_minor": 4
}
