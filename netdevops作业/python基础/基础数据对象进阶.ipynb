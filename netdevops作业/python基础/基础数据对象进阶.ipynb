{
 "cells": [
  {
   "cell_type": "code",
   "execution_count": 14,
   "metadata": {},
   "outputs": [
    {
     "name": "stdout",
     "output_type": "stream",
     "text": [
      "['c', 'b', 'a']\n",
      "<class 'list'>\n",
      "['a', 'b', 'c']\n"
     ]
    }
   ],
   "source": [
    "#str是不可变对象，而list是可变对象\n",
    "a = ['c','b','a']\n",
    "print(a)\n",
    "print(type(a))\n",
    "a.sort()\n",
    "print(a)\n"
   ]
  },
  {
   "cell_type": "code",
   "execution_count": 15,
   "metadata": {},
   "outputs": [
    {
     "name": "stdout",
     "output_type": "stream",
     "text": [
      "Abc\n",
      "abc\n"
     ]
    }
   ],
   "source": [
    "#不可变对象stc\n",
    "a ='abc'\n",
    "b = a.replace('a-','A')\n",
    "print(b)\n",
    "print(a)"
   ]
  },
  {
   "cell_type": "code",
   "execution_count": null,
   "metadata": {},
   "outputs": [],
   "source": [
    "#可迭代的容器\n",
    "#st set tuple dict本质是一个容器，他们实现了一些基本的方法，可以实现迭代\n",
    "#容器的重要特点是实现了contain函数iter函数\n",
    "\n",
    "#contain函数\n",
    "#这个函数实现了对in ,not in 的操作\n",
    "\n",
    "\n",
    "#iter函数\n",
    "#定义只要是一个迭代器的对象都可以称之为可迭代对象，看以下的列子"
   ]
  },
  {
   "cell_type": "code",
   "execution_count": 23,
   "metadata": {},
   "outputs": [
    {
     "name": "stdout",
     "output_type": "stream",
     "text": [
      "1\n",
      "<list_iterator object at 0x00000209508879A0>\n",
      "<list_iterator object at 0x00000209508879A0>\n",
      "<list_iterator object at 0x00000209508879A0>\n",
      "<list_iterator object at 0x00000209508879A0>\n",
      "2\n",
      "1\n",
      "<class 'list'>\n",
      "<class 'list_iterator'>\n",
      "<class 'list_iterator'>\n",
      "2\n",
      "3\n"
     ]
    }
   ],
   "source": [
    "x = [1,2,3]\n",
    "y = iter(x)\n",
    "z = iter(x)\n",
    "print(next(y))\n",
    "print(next(y))\n",
    "print(next(z))\n",
    "print(type(x))\n",
    "print(type(y))\n",
    "print(type(z))\n",
    "\n",
    "#注意一个可迭代对象可以使用for  while来循环取值\n",
    "for i in z:\n",
    "    print(i)\n",
    "    \n",
    "    \n",
    "#这里的x就是一个可迭代对象，迭代器内部有一个状态，该状态用于记录当前迭代所在的位置，以便下次迭代的时候正确的获取元素，可迭代对象实现了iter方法\n",
    "#该方法返回一个可迭代对象\n",
    "\n",
    "#迭代器持有一个内部状态字段，用于记录下次迭代返回值，他实现了next和iter方法，迭代器不会一次性把素有元素加载到内存，而是在需要的时候才生成结果"
   ]
  },
  {
   "cell_type": "code",
   "execution_count": null,
   "metadata": {},
   "outputs": [],
   "source": []
  },
  {
   "cell_type": "code",
   "execution_count": null,
   "metadata": {},
   "outputs": [],
   "source": []
  },
  {
   "cell_type": "code",
   "execution_count": null,
   "metadata": {},
   "outputs": [],
   "source": []
  }
 ],
 "metadata": {
  "kernelspec": {
   "display_name": "Python 3",
   "language": "python",
   "name": "python3"
  },
  "language_info": {
   "codemirror_mode": {
    "name": "ipython",
    "version": 3
   },
   "file_extension": ".py",
   "mimetype": "text/x-python",
   "name": "python",
   "nbconvert_exporter": "python",
   "pygments_lexer": "ipython3",
   "version": "3.8.3"
  }
 },
 "nbformat": 4,
 "nbformat_minor": 4
}
