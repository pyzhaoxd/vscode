{
 "cells": [
  {
   "cell_type": "code",
   "execution_count": 1,
   "metadata": {},
   "outputs": [
    {
     "data": {
      "text/plain": [
       "['__class__',\n",
       " '__contains__',\n",
       " '__delattr__',\n",
       " '__delitem__',\n",
       " '__dir__',\n",
       " '__doc__',\n",
       " '__eq__',\n",
       " '__format__',\n",
       " '__ge__',\n",
       " '__getattribute__',\n",
       " '__getitem__',\n",
       " '__gt__',\n",
       " '__hash__',\n",
       " '__init__',\n",
       " '__init_subclass__',\n",
       " '__iter__',\n",
       " '__le__',\n",
       " '__len__',\n",
       " '__lt__',\n",
       " '__ne__',\n",
       " '__new__',\n",
       " '__reduce__',\n",
       " '__reduce_ex__',\n",
       " '__repr__',\n",
       " '__reversed__',\n",
       " '__setattr__',\n",
       " '__setitem__',\n",
       " '__sizeof__',\n",
       " '__str__',\n",
       " '__subclasshook__',\n",
       " 'clear',\n",
       " 'copy',\n",
       " 'fromkeys',\n",
       " 'get',\n",
       " 'items',\n",
       " 'keys',\n",
       " 'pop',\n",
       " 'popitem',\n",
       " 'setdefault',\n",
       " 'update',\n",
       " 'values']"
      ]
     },
     "execution_count": 1,
     "metadata": {},
     "output_type": "execute_result"
    }
   ],
   "source": [
    "dir(dict)"
   ]
  },
  {
   "cell_type": "code",
   "execution_count": 2,
   "metadata": {},
   "outputs": [],
   "source": [
    "#使用键-值(key-value)存储，以下为常用的方法\n",
    "#clear\n",
    "#copy\n",
    "#fromkeys\n",
    "#get\n",
    "#items\n",
    "#keys\n",
    "#pop\n",
    "#popitem\n",
    "#setdefault\n",
    "#update\n",
    "#values"
   ]
  },
  {
   "cell_type": "code",
   "execution_count": 5,
   "metadata": {},
   "outputs": [
    {
     "name": "stdout",
     "output_type": "stream",
     "text": [
      "('zhaoxd', 18)\n",
      "('kevin', 20)\n",
      "('jimmy', 27)\n"
     ]
    }
   ],
   "source": [
    "names = ['zhaoxd','kevin','jimmy']\n",
    "scores = [18,20,27]\n",
    "dict2 = zip(names,scores)\n",
    "for i in dict2:\n",
    "    print(i)\n"
   ]
  },
  {
   "cell_type": "code",
   "execution_count": 9,
   "metadata": {},
   "outputs": [
    {
     "name": "stdout",
     "output_type": "stream",
     "text": [
      "18\n",
      "{'zhaoxd': 18, 'kevin': 20, 'jimmy': 27, 'dk': 28}\n"
     ]
    }
   ],
   "source": [
    "dict2 = {'zhaoxd':18,'kevin':20,'jimmy':27}\n",
    "#获取字典的值\n",
    "print(dict2['zhaoxd'])"
   ]
  },
  {
   "cell_type": "code",
   "execution_count": 10,
   "metadata": {},
   "outputs": [
    {
     "name": "stdout",
     "output_type": "stream",
     "text": [
      "{'zhaoxd': 18, 'kevin': 20, 'jimmy': 27, 'dk': 28}\n"
     ]
    }
   ],
   "source": [
    "#字典追加值 \n",
    "dict2['dk'] = 28\n",
    "print(dict2)"
   ]
  },
  {
   "cell_type": "code",
   "execution_count": 15,
   "metadata": {},
   "outputs": [
    {
     "name": "stdout",
     "output_type": "stream",
     "text": [
      "True\n",
      "18\n",
      "-1\n"
     ]
    }
   ],
   "source": [
    "#get\n",
    "#查数据的时候如果key不存在就会报错 KeyError: 'jsj'\n",
    "#print(dict2['jsj'])\n",
    "\n",
    "#方法一检索字典中是否有相应key的方法\n",
    "print('zhaoxd' in dict2)\n",
    "\n",
    "#方法二推荐，如果key不存在返回None不会出现运行报错\n",
    "print(dict2.get('zhaoxd'))\n",
    "\n",
    "#如果key不存在指定特定的返回结果\n",
    "print(dict2.get('zhaoxd1',-1))"
   ]
  },
  {
   "cell_type": "code",
   "execution_count": 16,
   "metadata": {},
   "outputs": [
    {
     "name": "stdout",
     "output_type": "stream",
     "text": [
      "{'kevin': 20, 'jimmy': 27}\n"
     ]
    }
   ],
   "source": [
    "#pop 删除一个key\n",
    "dict2 = {'zhaoxd':18,'kevin':20,'jimmy':27}\n",
    "dict2.pop('zhaoxd')\n",
    "print(dict2)"
   ]
  },
  {
   "cell_type": "code",
   "execution_count": 20,
   "metadata": {},
   "outputs": [
    {
     "name": "stdout",
     "output_type": "stream",
     "text": [
      "{}\n"
     ]
    }
   ],
   "source": [
    "#clear 默认是清空所有数据\n",
    "dict3 = {'zhaoxd':18,'kevin':20,'jimmy':27}\n",
    "dict3.clear()\n",
    "print(dict3)\n"
   ]
  },
  {
   "cell_type": "code",
   "execution_count": 22,
   "metadata": {},
   "outputs": [],
   "source": [
    "#del 删除字典\n",
    "dict3 = {'zhaoxd':18,'kevin':20,'jimmy':27}\n",
    "del dict3"
   ]
  },
  {
   "cell_type": "code",
   "execution_count": 23,
   "metadata": {},
   "outputs": [
    {
     "name": "stdout",
     "output_type": "stream",
     "text": [
      "新的字典为 : {'name': None, 'age': None, 'sex': None}\n",
      "新的字典为 : {'name': 10, 'age': 10, 'sex': 10}\n"
     ]
    }
   ],
   "source": [
    "#fromkeys() 函数用于创建一个新字典，以序列 seq 中元素做字典的键，value 为字典所有键对应的初始值。\n",
    "#语法dict.fromkeys(seq[, value])\n",
    "seq = ('name', 'age', 'sex')\n",
    " \n",
    "dict = dict.fromkeys(seq)\n",
    "print (\"新的字典为 : %s\" %  str(dict))\n",
    " \n",
    "dict = dict.fromkeys(seq, 10)\n",
    "print (\"新的字典为 : %s\" %  str(dict))"
   ]
  },
  {
   "cell_type": "code",
   "execution_count": 31,
   "metadata": {},
   "outputs": [
    {
     "name": "stdout",
     "output_type": "stream",
     "text": [
      "新复制的字典为 :  {'Name': 'Runoob', 'Age': 7, 'Class': 'First'}\n",
      "{'user': 'root', 'num': [1, 3], 'zhaoxd': 456}\n",
      "{'user': 'root', 'num': [1, 3], 'zhaoxd': 456}\n",
      "{'user': 'runoob', 'num': [1, 3], 'zhaoxd': 123}\n",
      "深度拷贝输出\n",
      "{'user': 'root', 'num': [1, 3], 'zhaoxd': 456}\n",
      "{'user': 'root', 'num': [1, 3], 'zhaoxd': 456}\n",
      "{'user': 'runoob', 'num': [1, 2, 3], 'zhaoxd': 123}\n"
     ]
    }
   ],
   "source": [
    "#copy函数返回一个字典的浅复制。\n",
    "dict1 = {'Name': 'Runoob', 'Age': 7, 'Class': 'First'}\n",
    " \n",
    "dict2 = dict1.copy()\n",
    "print (\"新复制的字典为 : \",dict2)\n",
    "\n",
    "\n",
    "#浅拷贝与深拷贝\n",
    "dict1 =  {'user':'runoob','num':[1,2,3],'zhaoxd':123}\n",
    " \n",
    "dict2 = dict1          # 浅拷贝: 引用对象\n",
    "dict3 = dict1.copy()   # 浅拷贝：深拷贝父对象（一级目录），子对象（二级目录）不拷贝，子对象是引用\n",
    " \n",
    "# 修改 data 数据\n",
    "dict1['user']='root'\n",
    "dict1['zhaoxd']=456\n",
    "dict1['num'].remove(2)\n",
    " \n",
    "# 输出结果\n",
    "print(dict1)\n",
    "print(dict2)\n",
    "print(dict3)\n",
    " \n",
    "#深度拷贝需要引入 copy 模块：\n",
    "print('深度拷贝输出')\n",
    "import copy\n",
    "dict1 =  {'user':'runoob','num':[1,2,3],'zhaoxd':123}\n",
    " \n",
    "dict2 = dict1          # 浅拷贝: 引用对象\n",
    "dict3 = copy.deepcopy(dict1)   # 浅拷贝：深拷贝父对象（一级目录），子对象（二级目录）不拷贝，子对象是引用\n",
    " \n",
    "# 修改 data 数据\n",
    "dict1['user']='root'\n",
    "dict1['zhaoxd']=456\n",
    "dict1['num'].remove(2)\n",
    " \n",
    "# 输出结果\n",
    "print(dict1)\n",
    "print(dict2)\n",
    "print(dict3)\n"
   ]
  },
  {
   "cell_type": "code",
   "execution_count": 34,
   "metadata": {},
   "outputs": [
    {
     "name": "stdout",
     "output_type": "stream",
     "text": [
      "dict_items([('user', 'runoob'), ('num', [1, 2, 3]), ('zhaoxd', 123)])\n",
      "user runoob\n",
      "num [1, 2, 3]\n",
      "zhaoxd 123\n"
     ]
    }
   ],
   "source": [
    "#字典 items() 方法以列表返回视图对象，是一个可遍历的key/value 对。\n",
    "dict1 =  {'user':'runoob','num':[1,2,3],'zhaoxd':123}\n",
    "\n",
    "print(dict1.items())\n",
    "for k,v in dict1.items():\n",
    "    print(k,v)\n",
    "    \n"
   ]
  },
  {
   "cell_type": "code",
   "execution_count": 36,
   "metadata": {},
   "outputs": [
    {
     "name": "stdout",
     "output_type": "stream",
     "text": [
      "dict_keys(['user', 'num', 'zhaoxd'])\n",
      "user\n",
      "num\n",
      "zhaoxd\n"
     ]
    }
   ],
   "source": [
    "#字典 keys() 方法返回一个视图对象。\n",
    "dict1 =  {'user':'runoob','num':[1,2,3],'zhaoxd':123}\n",
    "print(dict1.keys())\n",
    "\n",
    "for k in dict1.keys():\n",
    "    print(k)"
   ]
  },
  {
   "cell_type": "code",
   "execution_count": 38,
   "metadata": {},
   "outputs": [
    {
     "name": "stdout",
     "output_type": "stream",
     "text": [
      "dict_values(['runoob', [1, 2, 3], 123])\n",
      "runoob\n",
      "[1, 2, 3]\n",
      "123\n"
     ]
    }
   ],
   "source": [
    "#字典 values() 方法返回一个视图对象。\n",
    "dict1 =  {'user':'runoob','num':[1,2,3],'zhaoxd':123}\n",
    "print(dict1.values())\n",
    "\n",
    "for k in dict1.values():\n",
    "    print(k)"
   ]
  },
  {
   "cell_type": "code",
   "execution_count": 40,
   "metadata": {},
   "outputs": [
    {
     "name": "stdout",
     "output_type": "stream",
     "text": [
      "Age 键的值为 : 7\n",
      "Sex 键的值为 : 5\n",
      "新字典为： {'Name': 'Runoob', 'Age': 7, 'Sex': 5}\n"
     ]
    }
   ],
   "source": [
    "#setdefault() 方法和 get()方法 类似, 如果键不已经存在于字典中，将会添加键并将值设为默认值\n",
    "#dict.setdefault(key, default=None)\n",
    "dict = {'Name': 'Runoob', 'Age': 7}\n",
    " \n",
    "print (\"Age 键的值为 : %s\" %  dict.setdefault('Age', None))\n",
    "print (\"Sex 键的值为 : %s\" %  dict.setdefault('Sex', 5))\n",
    "print (\"新字典为：\", dict)"
   ]
  },
  {
   "cell_type": "code",
   "execution_count": 42,
   "metadata": {},
   "outputs": [
    {
     "name": "stdout",
     "output_type": "stream",
     "text": [
      "更新字典 dict1 :  {'Name': 'Runoob', 'Age': 7, 'Sex': 'female'}\n"
     ]
    }
   ],
   "source": [
    "#字典 update() 函数把字典参数 dict2 的 key/value(键/值) 对更新到字典 dict 里。\n",
    "dict1 = {'Name': 'Runoob', 'Age': 7}\n",
    "dict2 = {'Sex': 'female' }\n",
    " \n",
    "dict1.update(dict2)\n",
    "print (\"更新字典 dict1 : \", dict1)"
   ]
  },
  {
   "cell_type": "code",
   "execution_count": 43,
   "metadata": {},
   "outputs": [
    {
     "name": "stdout",
     "output_type": "stream",
     "text": [
      "{'Name': 'Runoob'}\n"
     ]
    }
   ],
   "source": [
    " #popitem() 方法随机返回并删除字典中的最后一对键和值\n",
    "dict1 = {'Name': 'Runoob', 'Age': 7}\n",
    "dict1.popitem()\n",
    "print(dict1)"
   ]
  },
  {
   "cell_type": "code",
   "execution_count": 45,
   "metadata": {},
   "outputs": [
    {
     "name": "stdout",
     "output_type": "stream",
     "text": [
      "2\n"
     ]
    }
   ],
   "source": [
    "#获取字典的长度\n",
    "dict1 = {'Name': 'Runoob', 'Age': 7}\n",
    "print(len(dict1))"
   ]
  },
  {
   "cell_type": "code",
   "execution_count": 44,
   "metadata": {},
   "outputs": [],
   "source": [
    "#字典与list的区别\n",
    "# dict特点：\n",
    "# 查找和插入的速度快，不会随着key的增加而增加\n",
    "# 需要占用大量的内存，内存浪费多\n",
    "\n",
    "# list的特点\n",
    "# 查找和插入随着元素的增加而增加\n",
    "# 占用内存少，浪费内存很少\n",
    "\n",
    "# #字典的key必须是不可变对象"
   ]
  },
  {
   "cell_type": "code",
   "execution_count": 46,
   "metadata": {},
   "outputs": [
    {
     "name": "stdout",
     "output_type": "stream",
     "text": [
      "Cecil phone number is 9102\n"
     ]
    }
   ],
   "source": [
    "#高阶用法，将字符串格式设置功能用于字典\n",
    "phonebook ={'Beth':9102,'Alice':1234}\n",
    "print('Cecil phone number is {Beth}'.format_map(phonebook))"
   ]
  },
  {
   "cell_type": "code",
   "execution_count": null,
   "metadata": {},
   "outputs": [],
   "source": []
  }
 ],
 "metadata": {
  "kernelspec": {
   "display_name": "Python 3",
   "language": "python",
   "name": "python3"
  },
  "language_info": {
   "codemirror_mode": {
    "name": "ipython",
    "version": 3
   },
   "file_extension": ".py",
   "mimetype": "text/x-python",
   "name": "python",
   "nbconvert_exporter": "python",
   "pygments_lexer": "ipython3",
   "version": "3.8.3"
  }
 },
 "nbformat": 4,
 "nbformat_minor": 4
}