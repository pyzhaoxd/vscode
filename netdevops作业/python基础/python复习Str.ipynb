{
 "cells": [
  {
   "cell_type": "code",
   "execution_count": 37,
   "metadata": {},
   "outputs": [
    {
     "name": "stdout",
     "output_type": "stream",
     "text": [
      "ab\n",
      "c\n"
     ]
    }
   ],
   "source": [
    "#字符串相关课题练习\n",
    "x = 'abc'\n",
    "y = 'edf'\n",
    "\n",
    "c = x[0:2] # 注意不取默认值\n",
    "d = x[-1:]\n",
    "print (c)\n",
    "print(d)"
   ]
  },
  {
   "cell_type": "code",
   "execution_count": 36,
   "metadata": {},
   "outputs": [
    {
     "name": "stdout",
     "output_type": "stream",
     "text": [
      "abc**edf\n"
     ]
    }
   ],
   "source": [
    "x = 'abc'\n",
    "y = 'edf'\n",
    "z = x + y\n",
    "z = '**'.join((x,y))\n",
    "print(z)"
   ]
  },
  {
   "cell_type": "code",
   "execution_count": 35,
   "metadata": {},
   "outputs": [
    {
     "name": "stdout",
     "output_type": "stream",
     "text": [
      "abcabcabc\n"
     ]
    }
   ],
   "source": [
    "x = 'abc'\n",
    "y = 'edf'\n",
    "z = x * 3\n",
    "print(z)"
   ]
  },
  {
   "cell_type": "code",
   "execution_count": 28,
   "metadata": {},
   "outputs": [
    {
     "name": "stdout",
     "output_type": "stream",
     "text": [
      "ok\n"
     ]
    }
   ],
   "source": [
    "x = 'abc'\n",
    "y = 'edf'\n",
    "\n",
    "if 'a'in x:\n",
    "    print('ok')"
   ]
  },
  {
   "cell_type": "code",
   "execution_count": 34,
   "metadata": {},
   "outputs": [
    {
     "name": "stdout",
     "output_type": "stream",
     "text": [
      "no\n"
     ]
    }
   ],
   "source": [
    "x = 'abc'\n",
    "y = 'edf'\n",
    "\n",
    "if 'e'in x:\n",
    "    print('ok')\n",
    "else:\n",
    "    print('no')"
   ]
  },
  {
   "cell_type": "code",
   "execution_count": 38,
   "metadata": {},
   "outputs": [
    {
     "name": "stdout",
     "output_type": "stream",
     "text": [
      "hello,world\n"
     ]
    }
   ],
   "source": [
    "#字符串格式化\n",
    "print('hello,%s' %'world')"
   ]
  },
  {
   "cell_type": "code",
   "execution_count": 41,
   "metadata": {},
   "outputs": [
    {
     "name": "stdout",
     "output_type": "stream",
     "text": [
      "Hi, mac, you have $10000.\n"
     ]
    }
   ],
   "source": [
    "print('Hi, %s, you have $%d.'  %('mac',10000))"
   ]
  },
  {
   "cell_type": "code",
   "execution_count": 49,
   "metadata": {
    "scrolled": true
   },
   "outputs": [
    {
     "name": "stdout",
     "output_type": "stream",
     "text": [
      "me this good boy\n"
     ]
    }
   ],
   "source": [
    "print('me this {} {}'.format('good','boy'))"
   ]
  },
  {
   "cell_type": "code",
   "execution_count": 50,
   "metadata": {},
   "outputs": [
    {
     "name": "stdout",
     "output_type": "stream",
     "text": [
      "me this boy good\n"
     ]
    }
   ],
   "source": [
    "print('me this {1} {0}'.format('good','boy'))"
   ]
  },
  {
   "cell_type": "code",
   "execution_count": 51,
   "metadata": {},
   "outputs": [
    {
     "name": "stdout",
     "output_type": "stream",
     "text": [
      "me this zhaoxd 18\n"
     ]
    }
   ],
   "source": [
    "print('me this {name} {age}'.format(name='zhaoxd',age='18'))"
   ]
  },
  {
   "cell_type": "code",
   "execution_count": 54,
   "metadata": {},
   "outputs": [
    {
     "name": "stdout",
     "output_type": "stream",
     "text": [
      "zhaoxd18love\n"
     ]
    }
   ],
   "source": [
    "#字符串拼接\n",
    "a = 'zhaoxd' \n",
    "b = 18\n",
    "c = 'love'\n",
    "print(a+str(b)+c)"
   ]
  },
  {
   "cell_type": "code",
   "execution_count": 55,
   "metadata": {},
   "outputs": [
    {
     "name": "stdout",
     "output_type": "stream",
     "text": [
      "this is device connect cisco.\n",
      "please dont no cleare configure\n",
      "Thanks anyone\n"
     ]
    }
   ],
   "source": [
    "#三引号长段文字，文本内容不需要换行符\\n\n",
    "banner = '''this is device connect cisco.\n",
    "please dont no cleare configure\n",
    "Thanks anyone'''\n",
    "\n",
    "print(banner)"
   ]
  },
  {
   "cell_type": "code",
   "execution_count": 56,
   "metadata": {
    "scrolled": true
   },
   "outputs": [
    {
     "name": "stdout",
     "output_type": "stream",
     "text": [
      "['__add__', '__class__', '__contains__', '__delattr__', '__dir__', '__doc__', '__eq__', '__format__', '__ge__', '__getattribute__', '__getitem__', '__getnewargs__', '__gt__', '__hash__', '__init__', '__init_subclass__', '__iter__', '__le__', '__len__', '__lt__', '__mod__', '__mul__', '__ne__', '__new__', '__reduce__', '__reduce_ex__', '__repr__', '__rmod__', '__rmul__', '__setattr__', '__sizeof__', '__str__', '__subclasshook__', 'capitalize', 'casefold', 'center', 'count', 'encode', 'endswith', 'expandtabs', 'find', 'format', 'format_map', 'index', 'isalnum', 'isalpha', 'isascii', 'isdecimal', 'isdigit', 'isidentifier', 'islower', 'isnumeric', 'isprintable', 'isspace', 'istitle', 'isupper', 'join', 'ljust', 'lower', 'lstrip', 'maketrans', 'partition', 'replace', 'rfind', 'rindex', 'rjust', 'rpartition', 'rsplit', 'rstrip', 'split', 'splitlines', 'startswith', 'strip', 'swapcase', 'title', 'translate', 'upper', 'zfill']\n"
     ]
    }
   ],
   "source": [
    "#查看字符串的方法和函数,注意函数是独立的，无需与对象关联，方法是需要与对象关联的，需要传递数据或者参数\n",
    "#初步学习可以忽略单下划线和双下划线，其中是内置方法和私有方法\n",
    "print(dir(str))"
   ]
  },
  {
   "cell_type": "code",
   "execution_count": null,
   "metadata": {},
   "outputs": [],
   "source": [
    "#字符串所有常用得方法\n",
    "center      #方法返回一个指定的宽度 width 居中的字符串，fillchar 为填充的字符，默认为空格。str.center(width[, fillchar])\n",
    "format      #字符串格式化\n",
    "startswitch #是否以某字符串开始\n",
    "endswith    #是否以某字符串结果\n",
    "split       #将字符串转发成列表\n",
    "splitlines  #以换行符将字符串切割成列表\n",
    "strip       #去除左右空白符或者指定字符\n",
    "replace     #替换字符串中得字串\n",
    "find        #整个字符串查找字串，并返回索引，无则返回-1\n",
    "index       #整个字符串查找字串，并返回索引\n",
    "upper       #整个字符串转换为大写\n",
    "lower       #整个字符串转换为小写\n",
    "title       #字符串首字母大写\n",
    "join        #将列表转换为字符串\n",
    "capitalize  #首字母大写\n",
    "count       #判断一个字符串里给定的字母或数字具体有多少个\n",
    "len         #判断字符串的长度\n",
    "format_map  #仅使用于字符串格式中可变数据参数来源于字典等映射关系数据时才可以使用。  \n",
    "lstrip      #截掉 string 左边的空格\n",
    "rstrip      #截掉 string 左边的空格\n",
    "\n",
    "\n",
    "#布尔值 True False\n",
    "istitle    #如果 string 是标题化的(见 title())则返回 True，否则返回 False\n",
    "isupper    #如果 string 中包含至少一个区分大小写的字符，并且所有这些(区分大小写的)字符都是大写，则返回 True，否则返回 False\n",
    "islower    #字符串全部是否为小写\n",
    "isalnum    #如果 string 至少有一个字符并且所有字符都是字母或数字则返回 True,否则返回 False\n",
    "isalpha    #如果 string 至少有一个字符并且所有字符都是字母则返回 True 否则返回 False\n",
    "isdigit    #如果 string 只包含数字则返回 True 否则返回 False.\n",
    "isnumeric  #如果 string 中只包含数字字符，则返回 True，否则返回 False\n",
    "isspace   #如果 string 中只包含空格，则返回 True，否则返回 False.\n"
   ]
  },
  {
   "cell_type": "code",
   "execution_count": 58,
   "metadata": {},
   "outputs": [
    {
     "name": "stdout",
     "output_type": "stream",
     "text": [
      "CISCO\n"
     ]
    }
   ],
   "source": [
    "#str 方法测试upper() 将字符串里面的小写全部转换为大写\n",
    "vendor = 'cisco'\n",
    "print(vendor.upper())"
   ]
  },
  {
   "cell_type": "code",
   "execution_count": 69,
   "metadata": {},
   "outputs": [
    {
     "name": "stdout",
     "output_type": "stream",
     "text": [
      "192.168.1.1\n",
      "192.168.2.1\n",
      "192.168.100.1\n"
     ]
    }
   ],
   "source": [
    "#方法测试strip() 在字符串的开头和结尾移除指定字符（如字母，数字，空格，换行符\\n,标点符号等）不指定默认移除字符串开头和结尾的所有空格和换行符号\n",
    "ip = ' 192.168.1.1  '\n",
    "print(ip.strip())\n",
    "\n",
    "#移除指定字符\n",
    "ip2 = '*192.168.2.1*'\n",
    "ip3 = ip2.strip('*')\n",
    "full = ip3.strip()\n",
    "print(full)\n",
    "\n",
    "#open()函数默认会有\\n\n",
    "ip4 = '192.168.100.1\\n'\n",
    "print(ip4.strip())"
   ]
  },
  {
   "cell_type": "code",
   "execution_count": 70,
   "metadata": {},
   "outputs": [
    {
     "name": "stdout",
     "output_type": "stream",
     "text": [
      "Zhaoxd\n"
     ]
    }
   ],
   "source": [
    "a = 'zhaoxd'\n",
    "print(a.title())"
   ]
  },
  {
   "cell_type": "code",
   "execution_count": 72,
   "metadata": {},
   "outputs": [
    {
     "name": "stdout",
     "output_type": "stream",
     "text": [
      "2\n"
     ]
    }
   ],
   "source": [
    "a = '123456'\n",
    "print(a.find('3'))"
   ]
  },
  {
   "cell_type": "code",
   "execution_count": 74,
   "metadata": {},
   "outputs": [
    {
     "name": "stdout",
     "output_type": "stream",
     "text": [
      "Zhaoxd\n"
     ]
    }
   ],
   "source": [
    "a = 'zhaoxd'\n",
    "print(a.capitalize())"
   ]
  },
  {
   "cell_type": "code",
   "execution_count": 79,
   "metadata": {},
   "outputs": [
    {
     "name": "stdout",
     "output_type": "stream",
     "text": [
      "3\n"
     ]
    }
   ],
   "source": [
    "a = 'aabbccc'\n",
    "print(a.count('c'))"
   ]
  },
  {
   "cell_type": "code",
   "execution_count": 80,
   "metadata": {},
   "outputs": [
    {
     "name": "stdout",
     "output_type": "stream",
     "text": [
      "6\n"
     ]
    }
   ],
   "source": [
    "a = '123456'\n",
    "print(len(a))"
   ]
  },
  {
   "cell_type": "code",
   "execution_count": 81,
   "metadata": {},
   "outputs": [
    {
     "name": "stdout",
     "output_type": "stream",
     "text": [
      "str.center(40, '*') :  ****************[runoob]****************\n"
     ]
    }
   ],
   "source": [
    "#str.center(width[, fillchar])\n",
    "str = \"[runoob]\"\n",
    "print (\"str.center(40, '*') : \", str.center(40, '*'))"
   ]
  },
  {
   "cell_type": "code",
   "execution_count": 85,
   "metadata": {},
   "outputs": [
    {
     "name": "stdout",
     "output_type": "stream",
     "text": [
      "20190301班小明总分：597.5\n",
      "20190301班小明总分：597.5\n"
     ]
    }
   ],
   "source": [
    "student={'name':'小明','class':'20190301','score':597.5}\n",
    "\n",
    "#使用format输出相关信息：\n",
    "s1='{st[class]}班{st[name]}总分：{st[score]}'.format(st=student)\n",
    "print(s1)\n",
    "\n",
    "#改用format_map方法后代码如下：\n",
    "student={'name':'小明','class':'20190301','score':597.5}\n",
    "s2='{class}班{name}总分：{score}'.format_map(student)\n",
    "print(s2)"
   ]
  },
  {
   "cell_type": "code",
   "execution_count": 87,
   "metadata": {},
   "outputs": [
    {
     "name": "stdout",
     "output_type": "stream",
     "text": [
      "True\n"
     ]
    }
   ],
   "source": [
    "a = 'Zhaoxd'\n",
    "print(a.istitle())\n"
   ]
  },
  {
   "cell_type": "code",
   "execution_count": 94,
   "metadata": {},
   "outputs": [
    {
     "name": "stdout",
     "output_type": "stream",
     "text": [
      "True\n"
     ]
    }
   ],
   "source": [
    "a = 'gff'\n",
    "print(a.isalnum())"
   ]
  },
  {
   "cell_type": "code",
   "execution_count": 99,
   "metadata": {},
   "outputs": [
    {
     "name": "stdout",
     "output_type": "stream",
     "text": [
      "192.168.1.1\n"
     ]
    }
   ],
   "source": [
    "#lstrip 截掉 string 左边的空格\n",
    "ip = '   192.168.1.1'\n",
    "print(ip.lstrip())"
   ]
  },
  {
   "cell_type": "code",
   "execution_count": 100,
   "metadata": {},
   "outputs": [
    {
     "name": "stdout",
     "output_type": "stream",
     "text": [
      "192.168.1.1\n"
     ]
    }
   ],
   "source": [
    "#rstrip截掉 string 右边的空格\n",
    "ip = '192.168.1.1  '\n",
    "print(ip.rstrip())"
   ]
  },
  {
   "cell_type": "code",
   "execution_count": 101,
   "metadata": {},
   "outputs": [
    {
     "name": "stdout",
     "output_type": "stream",
     "text": [
      "192.168.1.1\n"
     ]
    }
   ],
   "source": [
    "#strip截掉 string 左右两边的空格\n",
    "ip = '   192.168.1.1  '\n",
    "print(ip.strip())\n"
   ]
  },
  {
   "cell_type": "code",
   "execution_count": null,
   "metadata": {},
   "outputs": [],
   "source": []
  }
 ],
 "metadata": {
  "kernelspec": {
   "display_name": "Python 3",
   "language": "python",
   "name": "python3"
  },
  "language_info": {
   "codemirror_mode": {
    "name": "ipython",
    "version": 3
   },
   "file_extension": ".py",
   "mimetype": "text/x-python",
   "name": "python",
   "nbconvert_exporter": "python",
   "pygments_lexer": "ipython3",
   "version": "3.8.3"
  }
 },
 "nbformat": 4,
 "nbformat_minor": 4
}
