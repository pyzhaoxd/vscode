{
 "cells": [
  {
   "cell_type": "code",
   "execution_count": null,
   "metadata": {},
   "outputs": [],
   "source": [
    "#注意运行方式只能是python getpass_module.py 才能看到整体效果\n",
    "\n",
    "\n",
    "import getpass\n",
    "_username = 'zhaoxd'\n",
    "_password = 'zhaoxd123'\n",
    "username = input(\"username:\")\n",
    "password = getpass.getpass(\"password:\")\n",
    "if _username == username and _password == password:\n",
    "    print(\"welecom user {name} login.....\".format(name=username))\n",
    "else:\n",
    "    print(\"Invalid username or password\")\n",
    "    \n",
    "print(username,password)"
   ]
  }
 ],
 "metadata": {
  "kernelspec": {
   "display_name": "Python 3",
   "language": "python",
   "name": "python3"
  },
  "language_info": {
   "codemirror_mode": {
    "name": "ipython",
    "version": 3
   },
   "file_extension": ".py",
   "mimetype": "text/x-python",
   "name": "python",
   "nbconvert_exporter": "python",
   "pygments_lexer": "ipython3",
   "version": "3.8.3"
  }
 },
 "nbformat": 4,
 "nbformat_minor": 4
}
