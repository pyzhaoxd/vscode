{
 "cells": [
  {
   "cell_type": "code",
   "execution_count": null,
   "metadata": {},
   "outputs": [],
   "source": [
    "urls = ['http://www.baidu.com/search-duanzufang-p{}-0/'.format(number) for number in range(1,14)]\n",
    "for url in urls:\n",
    "    print(url)\n",
    "\n",
    "\n",
    "import requests\n",
    "res = requests.get('http://bj.xiaozhu.com/')\n",
    "print(res)\n",
    "print(res.request)\n",
    "print(res.reason)\n",
    "print(res.cookies)\n",
    "print(res.encoding)\n",
    "print(res.is_redirect)\n",
    "print(res.close())\n",
    "print(res.elapsed)\n",
    "print(res.history)\n",
    "print(res.is_permanent_redirect)\n",
    "print(res.url)\n",
    "print(res.links)"
   ]
  }
 ],
 "metadata": {
  "kernelspec": {
   "display_name": "Python 3",
   "language": "python",
   "name": "python3"
  },
  "language_info": {
   "codemirror_mode": {
    "name": "ipython",
    "version": 3
   },
   "file_extension": ".py",
   "mimetype": "text/x-python",
   "name": "python",
   "nbconvert_exporter": "python",
   "pygments_lexer": "ipython3",
   "version": "3.8.3"
  }
 },
 "nbformat": 4,
 "nbformat_minor": 4
}
