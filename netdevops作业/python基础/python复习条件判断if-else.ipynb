{
 "cells": [
  {
   "cell_type": "code",
   "execution_count": 5,
   "metadata": {},
   "outputs": [],
   "source": [
    "#if"
   ]
  },
  {
   "cell_type": "code",
   "execution_count": 4,
   "metadata": {},
   "outputs": [
    {
     "name": "stdout",
     "output_type": "stream",
     "text": [
      "you age is: 20\n"
     ]
    }
   ],
   "source": [
    "#实例一\n",
    "age = 20\n",
    "if age >= 18:\n",
    "    print(\"you age is:\",age)"
   ]
  },
  {
   "cell_type": "code",
   "execution_count": 7,
   "metadata": {},
   "outputs": [
    {
     "name": "stdout",
     "output_type": "stream",
     "text": [
      "default age is: 3\n"
     ]
    }
   ],
   "source": [
    "# if else\n",
    "\n",
    "age = 3\n",
    "if age >= 18:\n",
    "    print(\"you age is:\",age)\n",
    "    \n",
    "else:\n",
    "    print(\"default age is:\",age)"
   ]
  },
  {
   "cell_type": "code",
   "execution_count": null,
   "metadata": {},
   "outputs": [],
   "source": [
    "#if elif else\n",
    "age = 3\n",
    "if age >= 18:\n",
    "    print(\"you age is:\",age)\n",
    "    \n",
    "elif age >= 3:\n",
    "    print(\"plan elif:\",age)\n",
    "    \n",
    "else:\n",
    "    prinr(\"no match age is:\",age)\n"
   ]
  },
  {
   "cell_type": "code",
   "execution_count": null,
   "metadata": {},
   "outputs": [],
   "source": [
    "#elif 是 else if的缩写，完全可以有多个elif，以下为语句的完成形式,if语句的执行有个特点，它是从上往下，一旦判断条件成立，就执行对应的语句，忽略\n",
    "#之后的elif或者else\n",
    "# if <条件判断1>:\n",
    "#     <执行1>\n",
    "# elif <条件判断2>:\n",
    "#     <执行2>\n",
    "# elif <条件判断3>:\n",
    "#     <执行3>\n",
    "# else:\n",
    "#     <执行4>"
   ]
  },
  {
   "cell_type": "code",
   "execution_count": null,
   "metadata": {},
   "outputs": [],
   "source": [
    "#if判断条件简写, 只要x是非零的数值，非空字符串，非空list 就判断为True,否者为False\n",
    "x = 1\n",
    "if x:\n",
    "    print('True')\n",
    "    \n",
    "if True:\n",
    "    print(\"hello,world\")"
   ]
  },
  {
   "cell_type": "code",
   "execution_count": null,
   "metadata": {},
   "outputs": [],
   "source": [
    "#input()\n",
    "s = input(\"please input value brith:\")\n",
    "brith = int(s)\n",
    "if brith < 2000:\n",
    "    print(\"00前\")\n",
    "else:\n",
    "    print(\"00后\")"
   ]
  },
  {
   "cell_type": "code",
   "execution_count": 2,
   "metadata": {},
   "outputs": [
    {
     "name": "stdout",
     "output_type": "stream",
     "text": [
      "请根据对应的号码选择一个路由协议：\n",
      "1.RIP\n",
      "2.IGRP\n",
      "3.EIGRP\n",
      "4.OSPF\n",
      "5.ISIS\n",
      "6.BGP\n"
     ]
    }
   ],
   "source": [
    "#if 嵌套\n",
    "#读取用户输入，1.通过isdigit()判断用户输入符串是否只由数字组成。2.并使用int()将字符串转换为整数，3.判断用户输入是否在指定范围：\n",
    "print('''请根据对应的号码选择一个路由协议：\n",
    "1.RIP\n",
    "2.IGRP\n",
    "3.EIGRP\n",
    "4.OSPF\n",
    "5.ISIS\n",
    "6.BGP''')\n",
    "\n",
    "option = input('请输入你的选项（数组1-6):')\n",
    "if option .isdigit() and 1 <= int(option) <= 6:\n",
    "    if option == '1' or option == '2' or option == '3':\n",
    "        print('该路由协议属于距离尺量路由协议。')\n",
    "    elif option == '4' or option == '5':\n",
    "        print('改路由协议属于链路状态路由协议。')\n",
    "    else:\n",
    "        print('改路由协议属于路径尺量路由协议。')\n",
    "else:\n",
    "    print('选项无效，程序运行终止')"
   ]
  },
  {
   "cell_type": "code",
   "execution_count": 7,
   "metadata": {},
   "outputs": [
    {
     "name": "stdout",
     "output_type": "stream",
     "text": [
      "True\n",
      "False\n",
      "True\n",
      "True\n"
     ]
    }
   ],
   "source": [
    "# 通过成员运算符作判断\n",
    "netdevops = '网络工程师需要学习Python吗？'\n",
    "print('Python' in netdevops)\n",
    "print('java'in netdevops)\n",
    "print('c++' not in netdevops)\n",
    "\n",
    "interface = ['Eth1/1','Eth1/2','Eth1/3','Eth1/4']\n",
    "print('Eth1/1' in interface)"
   ]
  },
  {
   "cell_type": "code",
   "execution_count": 15,
   "metadata": {},
   "outputs": [
    {
     "name": "stdout",
     "output_type": "stream",
     "text": [
      "0\n",
      "1\n",
      "2\n",
      "3\n",
      "4\n",
      "5\n",
      "6\n",
      "7\n",
      "8\n",
      "9\n",
      "[0, 1, 2, 3, 4, 5, 6, 7, 8, 9]\n",
      "True\n"
     ]
    }
   ],
   "source": [
    "#使用range() 和list（）函数，结合成员运算作为IF条件判断\n",
    "a = range(10)\n",
    "for i in a:\n",
    "    print(i)\n",
    "b= list(a)\n",
    "print(b)\n",
    "print(0 in b)"
   ]
  },
  {
   "cell_type": "code",
   "execution_count": null,
   "metadata": {},
   "outputs": [],
   "source": [
    "print('''请根据对应的号码选择一个路由协议：\n",
    "1.RIP\n",
    "2.IGRP\n",
    "3.EIGRP\n",
    "4.OSPF\n",
    "5.ISIS\n",
    "6.BGP''')\n",
    "\n",
    "option = input('请输入你的选项（数组1-6):')\n",
    "if option .isdigit() and int(option) in list(range(1,7)):\n",
    "    if int(option) in list (range(1,4)):\n",
    "        print('该路由协议属于距离尺量路由协议。')\n",
    "    elif nt(option) in list (range(4,6)):\n",
    "        print('改路由协议属于链路状态路由协议。')\n",
    "    else:\n",
    "        print('改路由协议属于路径尺量路由协议。')\n",
    "else:\n",
    "    print('选项无效，程序运行终止')"
   ]
  }
 ],
 "metadata": {
  "kernelspec": {
   "display_name": "Python 3",
   "language": "python",
   "name": "python3"
  },
  "language_info": {
   "codemirror_mode": {
    "name": "ipython",
    "version": 3
   },
   "file_extension": ".py",
   "mimetype": "text/x-python",
   "name": "python",
   "nbconvert_exporter": "python",
   "pygments_lexer": "ipython3",
   "version": "3.8.3"
  }
 },
 "nbformat": 4,
 "nbformat_minor": 4
}
