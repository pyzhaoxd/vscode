{
 "cells": [
  {
   "cell_type": "code",
   "execution_count": 1,
   "metadata": {},
   "outputs": [
    {
     "data": {
      "text/plain": [
       "['__add__',\n",
       " '__class__',\n",
       " '__contains__',\n",
       " '__delattr__',\n",
       " '__delitem__',\n",
       " '__dir__',\n",
       " '__doc__',\n",
       " '__eq__',\n",
       " '__format__',\n",
       " '__ge__',\n",
       " '__getattribute__',\n",
       " '__getitem__',\n",
       " '__gt__',\n",
       " '__hash__',\n",
       " '__iadd__',\n",
       " '__imul__',\n",
       " '__init__',\n",
       " '__init_subclass__',\n",
       " '__iter__',\n",
       " '__le__',\n",
       " '__len__',\n",
       " '__lt__',\n",
       " '__mul__',\n",
       " '__ne__',\n",
       " '__new__',\n",
       " '__reduce__',\n",
       " '__reduce_ex__',\n",
       " '__repr__',\n",
       " '__reversed__',\n",
       " '__rmul__',\n",
       " '__setattr__',\n",
       " '__setitem__',\n",
       " '__sizeof__',\n",
       " '__str__',\n",
       " '__subclasshook__',\n",
       " 'append',\n",
       " 'clear',\n",
       " 'copy',\n",
       " 'count',\n",
       " 'extend',\n",
       " 'index',\n",
       " 'insert',\n",
       " 'pop',\n",
       " 'remove',\n",
       " 'reverse',\n",
       " 'sort']"
      ]
     },
     "execution_count": 1,
     "metadata": {},
     "output_type": "execute_result"
    }
   ],
   "source": [
    "dir(list)"
   ]
  },
  {
   "cell_type": "code",
   "execution_count": 2,
   "metadata": {},
   "outputs": [],
   "source": [
    "#append  在列表末尾添加新的对象\n",
    "#clear   清空列表\n",
    "#copy    复制列表\n",
    "#count   统计某个元素在列表中出现的次数\n",
    "#extend  在列表末尾一次性追加另一个序列中的多个值（用新列表扩展原来的列表）\n",
    "#index  从列表中找出某个值第一个匹配项的索引位置\n",
    "#insert 将对象插入列表\n",
    "#pop    移除列表中的一个元素（默认最后一个元素），并且返回该元素的值\n",
    "#remove 移除列表中某个值的第一个匹配项\n",
    "#reverse 反向列表中元素\n",
    "#sort    对原列表进行排序\n",
    "#del     删除列表指定索引元素"
   ]
  },
  {
   "cell_type": "code",
   "execution_count": 3,
   "metadata": {},
   "outputs": [],
   "source": [
    "# 序列是 Python 中最基本的数据结构。\n",
    "\n",
    "# 序列中的每个值都有对应的位置值，称之为索引，第一个索引是 0，第二个索引是 1，依此类推。\n",
    "\n",
    "# Python 有 6 个序列的内置类型，但最常见的是列表和元组。\n",
    "\n",
    "# 列表都可以进行的操作包括索引，切片，加，乘，检查成员。\n",
    "\n",
    "# 此外，Python 已经内置确定序列的长度以及确定最大和最小的元素的方法。\n",
    "\n",
    "# 列表是最常用的 Python 数据类型，它可以作为一个方括号内的逗号分隔值出现。\n",
    "\n",
    "# 列表的数据项不需要具有相同的类型\n"
   ]
  },
  {
   "cell_type": "code",
   "execution_count": 4,
   "metadata": {},
   "outputs": [
    {
     "name": "stdout",
     "output_type": "stream",
     "text": [
      "red\n",
      "green\n",
      "blue\n"
     ]
    }
   ],
   "source": [
    "#与字符串的索引一样，列表索引从 0 开始，第二个索引是 1，依此类推，通过索引列表可以进行截取、组合等操作\n",
    "list = ['red', 'green', 'blue', 'yellow', 'white', 'black']\n",
    "print( list[0] )\n",
    "print( list[1] )\n",
    "print( list[2] )"
   ]
  },
  {
   "cell_type": "code",
   "execution_count": 5,
   "metadata": {},
   "outputs": [
    {
     "name": "stdout",
     "output_type": "stream",
     "text": [
      "black\n",
      "white\n",
      "yellow\n"
     ]
    }
   ],
   "source": [
    "#索引也可以从尾部开始，最后一个元素的索引为 -1，往前一位为 -2，以此类推。\n",
    "list = ['red', 'green', 'blue', 'yellow', 'white', 'black']\n",
    "print( list[-1] )\n",
    "print( list[-2] )\n",
    "print( list[-3] )"
   ]
  },
  {
   "cell_type": "code",
   "execution_count": 6,
   "metadata": {},
   "outputs": [
    {
     "name": "stdout",
     "output_type": "stream",
     "text": [
      "[10, 20, 30, 40]\n"
     ]
    }
   ],
   "source": [
    "#使用下标索引来访问列表中的值，同样你也可以使用方括号 [] 的形式截取字符，如下所示：注意只取0-3 末置位4不取值\n",
    "nums = [10, 20, 30, 40, 50, 60, 70, 80, 90]\n",
    "print(nums[0:4])"
   ]
  },
  {
   "cell_type": "code",
   "execution_count": 7,
   "metadata": {},
   "outputs": [
    {
     "name": "stdout",
     "output_type": "stream",
     "text": [
      "list[1]:  Runoob\n",
      "list[1:-2]:  ['Runoob', 'Zhihu']\n"
     ]
    }
   ],
   "source": [
    "#使用负数索引值截取：\n",
    "list = ['Google', 'Runoob', \"Zhihu\", \"Taobao\", \"Wiki\"]\n",
    " \n",
    "# 读取第二位\n",
    "print (\"list[1]: \", list[1])\n",
    "# 从第二位开始（包含）截取到倒数第二位（不包含）\n",
    "print (\"list[1:-2]: \", list[1:-2])"
   ]
  },
  {
   "cell_type": "code",
   "execution_count": 9,
   "metadata": {},
   "outputs": [
    {
     "name": "stdout",
     "output_type": "stream",
     "text": [
      "第三个元素为 :  1997\n",
      "['Google', 'Runoob', 'zhaoxd', 2000]\n"
     ]
    }
   ],
   "source": [
    "#更新列表\n",
    "list = ['Google', 'Runoob', 1997, 2000]\n",
    "print (\"第三个元素为 : \", list[2])\n",
    "list[2] = 'zhaoxd'\n",
    "print(list)\n"
   ]
  },
  {
   "cell_type": "code",
   "execution_count": 6,
   "metadata": {},
   "outputs": [
    {
     "name": "stdout",
     "output_type": "stream",
     "text": [
      "更新后的列表 :  ['Google', 'Runoob', 'Taobao', 'Baidu']\n",
      "print string mylist: [10, 20, 30, 40, 50, 60]\n",
      "print extend mylist: [10, 20, 30, 40, 50, 60]\n",
      "print string mylist: [10, 20, 30, 40, 50, 60, [7, 8, 9]]\n",
      "print append mylist: [10, 20, 30, 40, 50, 60, [7, 8, 9]]\n"
     ]
    }
   ],
   "source": [
    "#函数使用\n",
    "#append 列表追加,默认追加元素添加到列表末尾\n",
    "list1 = ['Google', 'Runoob', 'Taobao']\n",
    "list1.append('Baidu')\n",
    "print (\"更新后的列表 : \", list1)\n",
    "\n",
    "def changeextend(str):\n",
    "    \"print string with extend\"\n",
    "    mylist.extend([40,50,60]);\n",
    "    print (\"print string mylist:\",mylist)\n",
    "    return\n",
    "def changeappend(str):\n",
    "    \"print string with append\" \n",
    "    mylist.append( [7,8,9] )\n",
    "    print(\"print string mylist:\",mylist )\n",
    "    return\n",
    "mylist = [10,20,30]\n",
    "\n",
    "changeextend( mylist );\n",
    "print (\"print extend mylist:\", mylist )\n",
    "\n",
    "changeappend( mylist );\n",
    "print (\"print append mylist:\", mylist )\n",
    "\n"
   ]
  },
  {
   "cell_type": "code",
   "execution_count": 14,
   "metadata": {},
   "outputs": [
    {
     "name": "stdout",
     "output_type": "stream",
     "text": [
      "原始列表 :  ['Google', 'Runoob', 1997, 2000]\n",
      "删除第三个元素 :  ['Google', 'Runoob', 2000]\n"
     ]
    }
   ],
   "source": [
    "#del删除列表元素 del\n",
    "list = ['Google', 'Runoob', 1997, 2000]\n",
    " \n",
    "print (\"原始列表 : \", list)\n",
    "del list[2]\n",
    "print (\"删除第三个元素 : \", list)"
   ]
  },
  {
   "cell_type": "code",
   "execution_count": 21,
   "metadata": {},
   "outputs": [
    {
     "name": "stdout",
     "output_type": "stream",
     "text": [
      "原始列表 :  ['Google', 'Runoob', 1997, 2000]\n",
      "删除第三个元素 :  ['Google', 1997, 2000]\n"
     ]
    }
   ],
   "source": [
    "#pop删除列表元素 pop() 不添加索引默认删除最后一个元素\n",
    "list = ['Google', 'Runoob', 1997, 2000]\n",
    "print (\"原始列表 : \", list)\n",
    "\n",
    "list.pop(1)\n",
    "print (\"删除第三个元素 : \", list)"
   ]
  },
  {
   "cell_type": "code",
   "execution_count": null,
   "metadata": {},
   "outputs": [],
   "source": [
    "#clear移除列表中某个值的第一个匹配项\n",
    "list1 = ['Google', 'Runoob', 'Taobao', 'Baidu']\n",
    "list1.remove('Taobao')\n",
    "print (\"列表现在为 : \", list1)\n",
    "list1.remove('Baidu')\n",
    "print (\"列表现在为 : \", list1)"
   ]
  },
  {
   "cell_type": "code",
   "execution_count": 25,
   "metadata": {},
   "outputs": [
    {
     "name": "stdout",
     "output_type": "stream",
     "text": [
      "原始列表 :  ['Google', 'Runoob', 1997, 2000]\n",
      "删除第三个元素 :  []\n"
     ]
    }
   ],
   "source": [
    "#clear  清空列表所有数据\n",
    "list = ['Google', 'Runoob', 1997, 2000]\n",
    "print (\"原始列表 : \", list)\n",
    "\n",
    "list.clear()\n",
    "print (\"删除第三个元素 : \", list)\n"
   ]
  },
  {
   "cell_type": "code",
   "execution_count": 28,
   "metadata": {},
   "outputs": [
    {
     "name": "stdout",
     "output_type": "stream",
     "text": [
      "3\n"
     ]
    }
   ],
   "source": [
    "#count 统计某个元素在列表中出现的次数\n",
    "list = ['Google', 'Google', 1, 1,1]\n",
    "print(list.count(1))\n"
   ]
  },
  {
   "cell_type": "code",
   "execution_count": 32,
   "metadata": {},
   "outputs": [
    {
     "name": "stdout",
     "output_type": "stream",
     "text": [
      "扩展后的列表： ['Google', 'Runoob', 'Taobao', 1, 2, 3]\n"
     ]
    }
   ],
   "source": [
    "#extend 在列表末尾一次性追加另一个序列中的多个值（用新列表扩展原来的列表）\n",
    "list1 = ['Google', 'Runoob', 'Taobao']\n",
    "list2 = [1,2,3]\n",
    "list1.extend(list2)  # 扩展列表\n",
    "print (\"扩展后的列表：\", list1)"
   ]
  },
  {
   "cell_type": "code",
   "execution_count": 35,
   "metadata": {},
   "outputs": [
    {
     "name": "stdout",
     "output_type": "stream",
     "text": [
      "1\n"
     ]
    }
   ],
   "source": [
    "#index 从列表中找出某个值第一个匹配项的索引位置\n",
    "list1 = ['Google', 'Runoob', 'Taobao']\n",
    "list2 = list1.index('Runoob')\n",
    "print(list2)\n"
   ]
  },
  {
   "cell_type": "code",
   "execution_count": 1,
   "metadata": {},
   "outputs": [
    {
     "name": "stdout",
     "output_type": "stream",
     "text": [
      "列表插入元素后为 :  ['Google', 'Baidu', 'Runoob', 'Taobao']\n"
     ]
    }
   ],
   "source": [
    "#insert将对象插入列表指定位置,注意在索引前插入\n",
    "list1 = ['Google', 'Runoob', 'Taobao']\n",
    "list1.insert(1, 'Baidu')\n",
    "print ('列表插入元素后为 : ', list1)"
   ]
  },
  {
   "cell_type": "code",
   "execution_count": 2,
   "metadata": {},
   "outputs": [
    {
     "name": "stdout",
     "output_type": "stream",
     "text": [
      "列表反转后:  ['Baidu', 'Taobao', 'Runoob', 'Google']\n"
     ]
    }
   ],
   "source": [
    "# reverse 列表反转\n",
    "list1 = ['Google', 'Runoob', 'Taobao', 'Baidu']\n",
    "list1.reverse()\n",
    "print (\"列表反转后: \", list1)"
   ]
  },
  {
   "cell_type": "code",
   "execution_count": 5,
   "metadata": {},
   "outputs": [
    {
     "name": "stdout",
     "output_type": "stream",
     "text": [
      "降序输出: ['u', 'o', 'i', 'e', 'a']\n",
      "升序输出: ['a', 'e', 'i', 'o', 'u']\n"
     ]
    }
   ],
   "source": [
    "#stot list.sort( key=None, reverse=False)\n",
    "#key -- 主要是用来进行比较的元素，只有一个参数，具体的函数的参数就是取自于可迭代对象中，指定可迭代对象中的一个元素来进行排序。\n",
    "#reverse -- 排序规则，reverse = True 降序， reverse = False 升序（默认）\n",
    "\n",
    "\n",
    "vowels = ['e', 'a', 'u', 'o', 'i']\n",
    "# 降序\n",
    "vowels.sort(reverse=True)\n",
    "print ( '降序输出:', vowels )\n",
    "\n",
    "vowels1 = ['e', 'a', 'u', 'o', 'i']\n",
    "# 升序\n",
    "vowels1.sort(reverse=False)\n",
    "print ( '升序输出:', vowels1 )"
   ]
  },
  {
   "cell_type": "code",
   "execution_count": 19,
   "metadata": {},
   "outputs": [
    {
     "name": "stdout",
     "output_type": "stream",
     "text": [
      "list2 列表:  ['Google', 'Runoob', 'Taobao', 'Baidu']\n",
      "list4列表 ['Google', 'Runoob', 'Taobao', 'Baidu']\n"
     ]
    }
   ],
   "source": [
    "#copy \n",
    "\n",
    "list1 = ['Google', 'Runoob', 'Taobao', 'Baidu']\n",
    "list2 = list1.copy()\n",
    "print (\"list2 列表: \", list2)\n",
    "\n",
    "list3 = ['Google', 'Runoob', 'Taobao', 'Baidu']\n",
    "list4 = list3[:]\n",
    "print('list4列表',list4)"
   ]
  },
  {
   "cell_type": "code",
   "execution_count": 14,
   "metadata": {},
   "outputs": [
    {
     "name": "stdout",
     "output_type": "stream",
     "text": [
      "range(0, 10)\n",
      "<class 'int'> 0\n",
      "<class 'int'> 1\n",
      "<class 'int'> 2\n",
      "<class 'int'> 3\n",
      "<class 'int'> 4\n",
      "<class 'int'> 5\n",
      "<class 'int'> 6\n",
      "<class 'int'> 7\n",
      "<class 'int'> 8\n",
      "<class 'int'> 9\n",
      "0\n",
      "1\n",
      "2\n",
      "3\n",
      "4\n",
      "5\n",
      "6\n",
      "7\n",
      "8\n",
      "9\n"
     ]
    }
   ],
   "source": [
    "a = range(10)\n",
    "print(a)\n",
    "for i in a:\n",
    "    print(type(i),i)\n",
    "    \n",
    "    \n",
    "for a in range(10):\n",
    "    print(a)"
   ]
  },
  {
   "cell_type": "code",
   "execution_count": 18,
   "metadata": {},
   "outputs": [
    {
     "name": "stdout",
     "output_type": "stream",
     "text": [
      "6\n"
     ]
    }
   ],
   "source": [
    "#len获取列表元素长度\n",
    "list = [1,2,3,4,5,6]\n",
    "print(len(list))"
   ]
  },
  {
   "cell_type": "code",
   "execution_count": 20,
   "metadata": {},
   "outputs": [
    {
     "name": "stdout",
     "output_type": "stream",
     "text": [
      "1\n",
      "5\n"
     ]
    }
   ],
   "source": [
    "list1 = [1,2,3,4,5]\n",
    "print(min(list1))\n",
    "print(max(list1))"
   ]
  },
  {
   "cell_type": "code",
   "execution_count": 33,
   "metadata": {},
   "outputs": [
    {
     "name": "stdout",
     "output_type": "stream",
     "text": [
      "None\n"
     ]
    }
   ],
   "source": [
    "#高级排序\n",
    "x = ['aa','bbbb','ddd','ffffff','gggggggggg']\n",
    "y = x.sort(key=len)\n",
    "print(y)"
   ]
  },
  {
   "cell_type": "code",
   "execution_count": null,
   "metadata": {},
   "outputs": [],
   "source": []
  }
 ],
 "metadata": {
  "kernelspec": {
   "display_name": "Python 3",
   "language": "python",
   "name": "python3"
  },
  "language_info": {
   "codemirror_mode": {
    "name": "ipython",
    "version": 3
   },
   "file_extension": ".py",
   "mimetype": "text/x-python",
   "name": "python",
   "nbconvert_exporter": "python",
   "pygments_lexer": "ipython3",
   "version": "3.8.3"
  }
 },
 "nbformat": 4,
 "nbformat_minor": 4
}
