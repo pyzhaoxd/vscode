{
 "cells": [
  {
   "cell_type": "code",
   "execution_count": 1,
   "metadata": {},
   "outputs": [],
   "source": [
    "#表达式for..in循环\n",
    "#for语句和循环机制和wihile语句完全不同，while语句需要配合判断语句来决定什么时候开始循环和中止循环，而for语句用来遍历一组可迭代的序列，可迭代的\n",
    "#序列包括，字符串，列表，元组等，将这些序列中的元素遍历完后，for语句循环也将终止，"
   ]
  },
  {
   "cell_type": "code",
   "execution_count": 2,
   "metadata": {},
   "outputs": [],
   "source": [
    "#for 语句格式如下\n",
    "# for item in sequence:\n",
    "#     statements"
   ]
  },
  {
   "cell_type": "code",
   "execution_count": 3,
   "metadata": {},
   "outputs": [
    {
     "name": "stdout",
     "output_type": "stream",
     "text": [
      "P\n",
      "y\n",
      "t\n",
      "h\n",
      "o\n",
      "n\n"
     ]
    }
   ],
   "source": [
    "for letter in 'Python':\n",
    "    print(letter)"
   ]
  },
  {
   "cell_type": "code",
   "execution_count": 7,
   "metadata": {},
   "outputs": [
    {
     "name": "stdout",
     "output_type": "stream",
     "text": [
      "[1, 2, 3, 4, 5]\n",
      "1\n",
      "3\n",
      "6\n",
      "10\n",
      "15\n"
     ]
    }
   ],
   "source": [
    "print(list(range(1,6)))\n",
    "sum = 0\n",
    "for number in range(1,6):\n",
    "    sum += number\n",
    "    print(sum)"
   ]
  },
  {
   "cell_type": "code",
   "execution_count": 10,
   "metadata": {},
   "outputs": [
    {
     "name": "stdout",
     "output_type": "stream",
     "text": [
      "RIP距离尺量协议\n",
      "IGRP距离尺量协议\n",
      "EIGRP距离尺量协议\n",
      "OSPF数据链状态协议 \n",
      "ISIS数据链状态协议 \n",
      "BGP路径尺量协议\n"
     ]
    }
   ],
   "source": [
    "# for 语句中嵌套if else判断语句\n",
    "routing_protocols = ['RIP','IGRP','EIGRP','OSPF','ISIS','BGP']\n",
    "link_state_protocols = ['OSPF','ISIS']\n",
    "for protocols in routing_protocols:\n",
    "    if protocols in link_state_protocols:\n",
    "        print(protocols + '数据链状态协议 ')\n",
    "    elif protocols == 'BGP':\n",
    "        print(protocols + '路径尺量协议')\n",
    "    else:\n",
    "        print(protocols + '距离尺量协议')"
   ]
  },
  {
   "cell_type": "code",
   "execution_count": 11,
   "metadata": {},
   "outputs": [
    {
     "name": "stdout",
     "output_type": "stream",
     "text": [
      "zhaoxd\n",
      "kevin\n",
      "1\n",
      "2\n",
      "3\n",
      "4\n"
     ]
    }
   ],
   "source": [
    "names = ['zhaoxd','kevin',1,2,3,4]\n",
    "for name in names:\n",
    "    print(name)"
   ]
  },
  {
   "cell_type": "code",
   "execution_count": null,
   "metadata": {},
   "outputs": [],
   "source": []
  }
 ],
 "metadata": {
  "kernelspec": {
   "display_name": "Python 3",
   "language": "python",
   "name": "python3"
  },
  "language_info": {
   "codemirror_mode": {
    "name": "ipython",
    "version": 3
   },
   "file_extension": ".py",
   "mimetype": "text/x-python",
   "name": "python",
   "nbconvert_exporter": "python",
   "pygments_lexer": "ipython3",
   "version": "3.8.3"
  }
 },
 "nbformat": 4,
 "nbformat_minor": 4
}
