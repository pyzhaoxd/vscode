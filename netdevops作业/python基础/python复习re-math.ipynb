{
 "cells": [
  {
   "cell_type": "code",
   "execution_count": 1,
   "metadata": {},
   "outputs": [],
   "source": [
    "#模糊匹配表达式\n",
    "\n",
    ". 匹配除换行符外的所有字符，匹配次数为1次\n",
    "* 用来匹配紧靠该符号左边的符号，匹配次数为0次或者多次\n",
    "+ 用来匹配紧靠该符号左边的符号，匹配次数为1次或多次\n",
    "？用来匹配紧靠该符号左边的符号，匹配次数为0次或1次\n",
    "{m} 用来匹配紧靠该符号左边的符号，指定匹配次数为m次，例如ab{2} abb\n",
    "{m,n} 用来匹配紧靠该符号左边的符号，指定匹配次数最少m次，最多n次，例如ad{2,3} add addd\n",
    "{m,} 用来匹配紧靠该符号左边的符号,指定匹配次数最少m次,最多无限次\n",
    "{,n}用来匹配紧靠该符号左边的符号,最少为0次，最多为n次\n",
    "\\ 转义字符，用来匹配上述“匹配字符“ 例如字符串中有? 可以使用\\? 保持打印?原始字符\n",
    "[] 表示字符集合，用来精确匹配。例如[0-9] [a-z] [A-Z] [0-9a-z-A-Z]\n",
    "| 表示或，选择其中的一个匹配项 a|b\n",
    "() 组合，匹配括号内的任意正则表达式，例如（b|cd) bc bd"
   ]
  },
  {
   "cell_type": "code",
   "execution_count": 2,
   "metadata": {},
   "outputs": [],
   "source": [
    "#贪婪匹配\n",
    "*\n",
    "+\n",
    "?\n",
    "{m}\n",
    "{m,}\n",
    "{m,n}\n",
    "以上6种匹配符号默认都是贪婪匹配的，会尽可能多的去匹配符合条件的内容\n",
    "\n",
    "例如： x.*y  在匹配到第一个\"x\"后，开始匹配.* 因为.和*都是贪婪匹配，他会一直往后匹配，直到为 [xzyxy]z\n"
   ]
  },
  {
   "cell_type": "code",
   "execution_count": 5,
   "metadata": {},
   "outputs": [],
   "source": [
    "#非贪婪匹配\n",
    "只需要在贪婪匹配符号后面加上问号 ?即可\n",
    "*?\n",
    "+?\n",
    "??\n",
    "{m}?\n",
    "{m,}?\n",
    "{m,n}?\n",
    "\n",
    "例如：这则表达式x.*?y 在匹配到第一个x后，因为.*?是非贪婪匹配的 他在匹配到第一个y后就停止  xxzy\n",
    "\n"
   ]
  },
  {
   "cell_type": "code",
   "execution_count": 6,
   "metadata": {},
   "outputs": [],
   "source": [
    "#特殊序列由转移符号和一个字符组成\n",
    "\\d 匹配任意一个十进制数字，等价于[0-9]\n",
    "\\D \\d取非，匹配任意一个非十进制数字，等价于[^0-9]\n",
    "\\w 匹配任意一个字母，十进制数字及下划线，等价于[a-zA-Z0-9]\n",
    "\\W \\w取非，等价于[^a-zA-Z0-9]\n",
    "\\s 匹配任意一个空白字符，包括空格，换行符\\n\n",
    "\\S \\s取非，匹配任意一个非空白字符\n"
   ]
  },
  {
   "cell_type": "code",
   "execution_count": 8,
   "metadata": {},
   "outputs": [
    {
     "data": {
      "text/plain": [
       "['A',\n",
       " 'ASCII',\n",
       " 'DEBUG',\n",
       " 'DOTALL',\n",
       " 'I',\n",
       " 'IGNORECASE',\n",
       " 'L',\n",
       " 'LOCALE',\n",
       " 'M',\n",
       " 'MULTILINE',\n",
       " 'Match',\n",
       " 'Pattern',\n",
       " 'RegexFlag',\n",
       " 'S',\n",
       " 'Scanner',\n",
       " 'T',\n",
       " 'TEMPLATE',\n",
       " 'U',\n",
       " 'UNICODE',\n",
       " 'VERBOSE',\n",
       " 'X',\n",
       " '_MAXCACHE',\n",
       " '__all__',\n",
       " '__builtins__',\n",
       " '__cached__',\n",
       " '__doc__',\n",
       " '__file__',\n",
       " '__loader__',\n",
       " '__name__',\n",
       " '__package__',\n",
       " '__spec__',\n",
       " '__version__',\n",
       " '_cache',\n",
       " '_compile',\n",
       " '_compile_repl',\n",
       " '_expand',\n",
       " '_locale',\n",
       " '_pickle',\n",
       " '_special_chars_map',\n",
       " '_subx',\n",
       " 'compile',\n",
       " 'copyreg',\n",
       " 'enum',\n",
       " 'error',\n",
       " 'escape',\n",
       " 'findall',\n",
       " 'finditer',\n",
       " 'fullmatch',\n",
       " 'functools',\n",
       " 'match',\n",
       " 'purge',\n",
       " 'search',\n",
       " 'split',\n",
       " 'sre_compile',\n",
       " 'sre_parse',\n",
       " 'sub',\n",
       " 'subn',\n",
       " 'template']"
      ]
     },
     "execution_count": 8,
     "metadata": {},
     "output_type": "execute_result"
    }
   ],
   "source": [
    "#python中正则表达式的应用re模块\n",
    "\n",
    "import re\n",
    "dir(re)"
   ]
  },
  {
   "cell_type": "code",
   "execution_count": 9,
   "metadata": {},
   "outputs": [],
   "source": [
    "#re.matchi() re.search() re.findall() re.sub() re.splict() re.compile()"
   ]
  },
  {
   "cell_type": "code",
   "execution_count": 14,
   "metadata": {},
   "outputs": [
    {
     "name": "stdout",
     "output_type": "stream",
     "text": [
      "intf in group(): interface Ehternet1/5 <class 'str'>\n",
      "intf in group(0): interface Ehternet1/5\n"
     ]
    }
   ],
   "source": [
    "#python中字符串有转义一说，所以写正则的时候建议大家在正则字符串的最前面写上re.match 模块会从头匹配正则,两个参数，第一个是正则的模式\n",
    "#第二个是待处理的字符串从String首字母开始开始开始匹配pattern，string如果包含pattern子串，则匹配成功，返回Match对象，失败则返回None\n",
    "#若要完全匹配，pattern要以$结尾match的时候pattern相当于隐式包含了一个^开始符在最前面\n",
    "#re.match(pattern,string,flags=0)\n",
    "\n",
    "# pattern 等于正则表达式\n",
    "# string 等于要匹配的字符串\n",
    "# flags为标志位，用来控制正则表达式的匹配方式，如是否区分大小写，是否多行匹配，flags不是很常用\n",
    "line = 'interface Ehternet1/5 is up'\n",
    "intf_pattern = r'interface\\s+Ehternet\\d+/\\d+'\n",
    "interface_match = re.match(intf_pattern, line)\n",
    "if interface_match:\n",
    "    # 获取整体的匹配\n",
    "    intf = interface_match.group()\n",
    "    print('intf in group():', intf,type(intf))\n",
    "\n",
    "    # 同上，获取整体的匹配\n",
    "    intf = interface_match.group(0)\n",
    "    print('intf in group(0):', intf)\n",
    "# 以上这段代码，大家可以修改line 前面加一个空格，就会发现正则失效\n"
   ]
  },
  {
   "cell_type": "code",
   "execution_count": 18,
   "metadata": {},
   "outputs": [
    {
     "name": "stdout",
     "output_type": "stream",
     "text": [
      "intf in group(): interface Ehternet1/5\n",
      "intf in group(0): interface Ehternet1/5\n",
      "intf in groups(): ('1', '5')\n",
      "intf index in groups(2): 5\n"
     ]
    }
   ],
   "source": [
    "# 子串的提取 我们用\"()\"提取子串  r代表原始字符串(Raw String)\n",
    "line = 'interface Ehternet1/5 is up'\n",
    "intf_pattern = r'interface\\s+Ehternet(\\d+)/(\\d+)'\n",
    "interface_match = re.match(intf_pattern, line)\n",
    "if interface_match:\n",
    "    # 获取整体的匹配\n",
    "    intf = interface_match.group()\n",
    "    print('intf in group():', intf)\n",
    "\n",
    "    # 同上，获取整体的匹配\n",
    "    intf = interface_match.group(0)\n",
    "    print('intf in group(0):', intf)\n",
    "\n",
    "    # 获取所有子串 groups()\n",
    "    intf = interface_match.groups()\n",
    "    print('intf in groups():', intf)\n",
    "\n",
    "    # 获取指定index的子串 groups(index) 注意index不要越界\n",
    "    intf = interface_match.group(2)\n",
    "    print('intf index in groups(2):', intf)"
   ]
  },
  {
   "cell_type": "code",
   "execution_count": 29,
   "metadata": {},
   "outputs": [
    {
     "name": "stdout",
     "output_type": "stream",
     "text": [
      "intf in group(): interface Ehternet1/5 <class 'str'>\n",
      "intf in group(0): interface Ehternet1/5\n"
     ]
    }
   ],
   "source": [
    "#re.search()\n",
    "#她允许在字符串的任意位置匹配指定的模式\n",
    "line = '!!!interface Ehternet1/5 is up'\n",
    "intf_pattern = r'interface\\s+Ehternet\\d+/\\d+'\n",
    "interface_match = re.search(intf_pattern, line)\n",
    "if interface_match:\n",
    "    # 获取整体的匹配\n",
    "    intf = interface_match.group()\n",
    "    print('intf in group():', intf, type(intf))\n",
    "\n",
    "    # 同上，获取整体的匹配\n",
    "    intf = interface_match.group(0)\n",
    "    print('intf in group(0):', intf)"
   ]
  },
  {
   "cell_type": "code",
   "execution_count": 33,
   "metadata": {},
   "outputs": [
    {
     "name": "stdout",
     "output_type": "stream",
     "text": [
      "intf find:: Ehternet1/5 无子串默认返回的是字符串的list <class 'list'>\n",
      "intf find:: Ehternet1/6 无子串默认返回的是字符串的list <class 'list'>\n",
      "intf find:: Ehternet1/7 无子串默认返回的是字符串的list <class 'list'>\n",
      "intf slot and index info  find:: ('1', '5') 有子串默认返回的是子串的tuple <class 'list'>\n",
      "intf slot and index info  find:: ('1', '6') 有子串默认返回的是子串的tuple <class 'list'>\n",
      "intf slot and index info  find:: ('1', '7') 有子串默认返回的是子串的tuple <class 'list'>\n"
     ]
    }
   ],
   "source": [
    "#re.findall() 一次性匹配的内容全部输出\n",
    "\n",
    " # 无子串\n",
    "line = '''   interface Ehternet1/5 is up\n",
    "interface Ehternet1/6 is up\n",
    "interface Ehternet1/7 is down\n",
    "'''\n",
    "intf_pattern = r'Ehternet\\d+/\\d+'\n",
    "intf_match_list = re.findall(intf_pattern, line)\n",
    "for intf in intf_match_list:\n",
    "    print('intf find::', intf, '无子串默认返回的是字符串的list', type(intf_match_list ))\n",
    "\n",
    "# 有子串\n",
    "intf_pattern = r'Ehternet(\\d+)/(\\d+)'\n",
    "intf_match_list = re.findall(intf_pattern, line)\n",
    "for intf in intf_match_list:\n",
    "     print('intf slot and index info  find::', intf, '有子串默认返回的是子串的tuple', type(intf_match_list ))\n"
   ]
  },
  {
   "cell_type": "code",
   "execution_count": 50,
   "metadata": {},
   "outputs": [
    {
     "name": "stdout",
     "output_type": "stream",
     "text": [
      "********** ['', ' up\\n        ', ' up\\n        ', ' down\\n    ']\n",
      "\n",
      "up\n",
      "up\n",
      "down\n",
      "['', 'Ehternet1/5 is up\\n        ', 'Ehternet1/6 is up\\n        ', 'Ehternet1/7 is down\\n    ']\n",
      "INterface Ehternet1/5 is up\n",
      "        interface Ehternet1/6 is up\n",
      "        interface Ehternet1/7 is down\n",
      "    \n"
     ]
    }
   ],
   "source": [
    "\n",
    "#之前的方法每次执行match search等的时候，会先编译正则 再解析 每次执行都会消耗资源\n",
    "#对于循环使用的，我们可以先编译再调用对应的match、search方法，减少资源消耗\n",
    "\n",
    "lines = '''   interface Ehternet1/5 is up\n",
    "        interface Ehternet1/6 is up\n",
    "        interface Ehternet1/7 is down\n",
    "'''\n",
    "intf_pattern = r'interface\\s+Ehternet\\d+/\\d+\\s+is'\n",
    "split_strs = re.split(intf_pattern, line)\n",
    "print('**********',split_strs)\n",
    "for split_str in split_strs:\n",
    "    print(split_str.strip())\n",
    "\n",
    "#对于比较复杂的正则，我们可以一段段写起，慢慢添加，形成复杂的正则\n",
    "#过于复杂的正则，建议拆解开分而治之\n",
    "\n",
    "\n",
    "#split可以按正则切割字符串--返回列表\n",
    "  \n",
    "line = '''interface Ehternet1/5 is up\n",
    "        interface Ehternet1/6 is up\n",
    "        interface Ehternet1/7 is down\n",
    "    '''\n",
    "intf_pattern = r'interface\\s'\n",
    "items = re.split(intf_pattern, line)\n",
    "print(items)\n",
    "\n",
    "\n",
    "#sub相当于replace，三个参数 正则，符合正则的字符串要被替换的内容，执行的字符串\n",
    "\n",
    "intf_pattern = r'interface'\n",
    "line_after_sub = re.sub(intf_pattern, 'INterface', line,1)\n",
    "print(line_after_sub)\n"
   ]
  },
  {
   "cell_type": "code",
   "execution_count": 46,
   "metadata": {},
   "outputs": [
    {
     "name": "stdout",
     "output_type": "stream",
     "text": [
      "interface Ehternet1/5\n",
      "interface Ehternet1/6\n",
      "interface Ehternet1/7\n"
     ]
    }
   ],
   "source": [
    "import re\n",
    "\n",
    "lines = '''   interface Ehternet1/5 is up\n",
    "        interface Ehternet1/6 is up\n",
    "        interface Ehternet1/7 is down\n",
    "        '''\n",
    "intf_re = re.compile(r'interface\\s+Ehternet(\\d+)/(\\d+)')\n",
    "\n",
    "for line in lines.splitlines():\n",
    "    interface_match = intf_re.search(line)\n",
    "    if interface_match:\n",
    "        print(interface_match.group())\n"
   ]
  },
  {
   "cell_type": "code",
   "execution_count": null,
   "metadata": {},
   "outputs": [],
   "source": [
    "import re\n",
    "\n",
    "\n",
    "def get_log(file):\n",
    "    '''\n",
    "    读取log内容，将所有\\r\\n替换为\\n\n",
    "    :param file: 文件路径\n",
    "    :return: log内容\n",
    "    '''\n",
    "    with open(file,mode='r',encoding='utf8') as f:\n",
    "        log_content = f.read()\n",
    "        log_content = log_content.replace('\\r\\n','\\n')\n",
    "        return log_content\n",
    "\n",
    "if __name__ == '__main__':\n",
    "    log = get_log('version.log')\n",
    "    '''编写正则表达式，构建re对象\n",
    "    re.S 代表的是. 可以匹配任意字符包括换行\n",
    "    '''\n",
    "    software_re = re.compile(r'\\s+NXOS:\\s+version\\s+(\\S+)\\s+.+?NXOS image file is: bootflash:///(\\S+)',re.S)\n",
    "    # software_re = re.compile(r'\\s+NXOS:\\s+version\\s+(?P<version>\\S+)\\s+.+?NXOS image file is: bootflash:///(?P<bin_file>\\S+)',re.S)\n",
    "    software_re_search = software_re.search(log)\n",
    "    if software_re_search:\n",
    "        ver = software_re_search.group(1)\n",
    "        bin_file = software_re_search.group(2)\n",
    "        # ver = software_re_search.group('version')\n",
    "        # bin_file = software_re_search.group('bin_file')\n",
    "        print(ver,bin_file)"
   ]
  }
 ],
 "metadata": {
  "kernelspec": {
   "display_name": "Python 3",
   "language": "python",
   "name": "python3"
  },
  "language_info": {
   "codemirror_mode": {
    "name": "ipython",
    "version": 3
   },
   "file_extension": ".py",
   "mimetype": "text/x-python",
   "name": "python",
   "nbconvert_exporter": "python",
   "pygments_lexer": "ipython3",
   "version": "3.8.3"
  }
 },
 "nbformat": 4,
 "nbformat_minor": 4
}
